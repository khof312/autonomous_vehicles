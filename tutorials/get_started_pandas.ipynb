{
 "cells": [
  {
   "cell_type": "markdown",
   "metadata": {},
   "source": [
    "This is a brief introduction to Pandas. It is definitely not the first. Highly recommended resources for further reading include:   \n",
    "- **Tutorials from Stern's \"Dealing with Data\" course**:    \n",
    "https://github.com/ipeirotis/dealing_with_data \n",
    "- ** Python for Data Analysis**, by Wes McKinney (the creator of Pandas):    \n",
    "http://shop.oreilly.com/product/0636920023784.do\n",
    "- ** StackOverflow **:     \n",
    "http://stackoverflow.com/questions/tagged/pandas\n",
    "- ** The Pandas documentation **:     \n",
    "http://pandas.pydata.org/pandas-docs/stable/\n",
    "- ** Chris Albon's blog**, which has consistently useful code snippets:   \n",
    "http://chrisalbon.com/#Python"
   ]
  },
  {
   "cell_type": "markdown",
   "metadata": {},
   "source": [
    "# 0. Setup\n",
    "First things first: let's load our libraries."
   ]
  },
  {
   "cell_type": "code",
   "execution_count": 1,
   "metadata": {
    "collapsed": true
   },
   "outputs": [],
   "source": [
    "import pandas as pd               # For working with dataframes\n",
    "import numpy as np                # For numeric and scientific computations\n",
    "import matplotlib.pyplot as plt   # For graphing\n",
    "import urllib                     # For downloading content from a URL\n",
    "import zipfile                    # For unzipping files\n",
    "\n",
    "%matplotlib inline"
   ]
  },
  {
   "cell_type": "markdown",
   "metadata": {},
   "source": [
    "Did you install pandas?"
   ]
  },
  {
   "cell_type": "code",
   "execution_count": 2,
   "metadata": {
    "collapsed": false
   },
   "outputs": [
    {
     "name": "stdout",
     "output_type": "stream",
     "text": [
      "Requirement already satisfied: pandas in c:\\anaconda\\lib\\site-packages\n",
      "Requirement already satisfied: python-dateutil in c:\\anaconda\\lib\\site-packages (from pandas)\n",
      "Requirement already satisfied: pytz>=2011k in c:\\anaconda\\lib\\site-packages (from pandas)\n",
      "Requirement already satisfied: numpy>=1.7.0 in c:\\anaconda\\lib\\site-packages (from pandas)\n",
      "Requirement already satisfied: six>=1.5 in c:\\anaconda\\lib\\site-packages (from python-dateutil->pandas)\n"
     ]
    },
    {
     "name": "stderr",
     "output_type": "stream",
     "text": [
      "You are using pip version 9.0.0, however version 9.0.1 is available.\n",
      "You should consider upgrading via the 'python -m pip install --upgrade pip' command.\n"
     ]
    }
   ],
   "source": [
    "# We can access the command line with an exclamation point, like this:\n",
    "!pip install pandas"
   ]
  },
  {
   "cell_type": "markdown",
   "metadata": {},
   "source": [
    "Now, download the file from the web"
   ]
  },
  {
   "cell_type": "code",
   "execution_count": 3,
   "metadata": {
    "collapsed": false
   },
   "outputs": [
    {
     "data": {
      "text/plain": [
       "('chntrp09.zip', <httplib.HTTPMessage instance at 0x00000000043F6A48>)"
      ]
     },
     "execution_count": 3,
     "metadata": {},
     "output_type": "execute_result"
    }
   ],
   "source": [
    "source = \"http://nhts.ornl.gov/2009/download/TripChainingCSV.zip\"\n",
    "urllib.urlretrieve(source, \"chntrp09.zip\")"
   ]
  },
  {
   "cell_type": "markdown",
   "metadata": {},
   "source": [
    "And, unzip it"
   ]
  },
  {
   "cell_type": "code",
   "execution_count": 4,
   "metadata": {
    "collapsed": true
   },
   "outputs": [],
   "source": [
    "zip_ref = zipfile.ZipFile(\"chntrp09.zip\", 'r')\n",
    "zip_ref.extractall(\"chntrp09\")\n",
    "zip_ref.close()"
   ]
  },
  {
   "cell_type": "markdown",
   "metadata": {},
   "source": [
    "OK, now, we can get started."
   ]
  },
  {
   "cell_type": "markdown",
   "metadata": {},
   "source": [
    "# 1. Importing CSV data"
   ]
  },
  {
   "cell_type": "markdown",
   "metadata": {},
   "source": [
    "We read in a csv file like this:"
   ]
  },
  {
   "cell_type": "code",
   "execution_count": 5,
   "metadata": {
    "collapsed": true
   },
   "outputs": [],
   "source": [
    "trip_data = pd.read_csv(\"chntrp09/TripChainingCSV/chntrp09.csv\")"
   ]
  },
  {
   "cell_type": "markdown",
   "metadata": {},
   "source": [
    "What happened?"
   ]
  },
  {
   "cell_type": "code",
   "execution_count": 6,
   "metadata": {
    "collapsed": false
   },
   "outputs": [
    {
     "data": {
      "text/html": [
       "<div>\n",
       "<table border=\"1\" class=\"dataframe\">\n",
       "  <thead>\n",
       "    <tr style=\"text-align: right;\">\n",
       "      <th></th>\n",
       "      <th>HOUSEID</th>\n",
       "      <th>PERSONID</th>\n",
       "      <th>TDTRPNUM</th>\n",
       "      <th>WTTRDFIN</th>\n",
       "      <th>TOUR</th>\n",
       "      <th>TOUR_SEG</th>\n",
       "      <th>TOURTYPE</th>\n",
       "      <th>TRPCNT</th>\n",
       "      <th>STOPS</th>\n",
       "      <th>TOUR_FLG</th>\n",
       "    </tr>\n",
       "  </thead>\n",
       "  <tbody>\n",
       "    <tr>\n",
       "      <th>1164975</th>\n",
       "      <td>69999811</td>\n",
       "      <td>1</td>\n",
       "      <td>8</td>\n",
       "      <td>296027.5136</td>\n",
       "      <td>3</td>\n",
       "      <td>1</td>\n",
       "      <td>HW</td>\n",
       "      <td>1</td>\n",
       "      <td>0</td>\n",
       "      <td>0</td>\n",
       "    </tr>\n",
       "    <tr>\n",
       "      <th>1164976</th>\n",
       "      <td>69999811</td>\n",
       "      <td>1</td>\n",
       "      <td>9</td>\n",
       "      <td>296027.5136</td>\n",
       "      <td>4</td>\n",
       "      <td>1</td>\n",
       "      <td>WH</td>\n",
       "      <td>1</td>\n",
       "      <td>0</td>\n",
       "      <td>0</td>\n",
       "    </tr>\n",
       "  </tbody>\n",
       "</table>\n",
       "</div>"
      ],
      "text/plain": [
       "          HOUSEID  PERSONID  TDTRPNUM     WTTRDFIN  TOUR  TOUR_SEG TOURTYPE  \\\n",
       "1164975  69999811         1         8  296027.5136     3         1       HW   \n",
       "1164976  69999811         1         9  296027.5136     4         1       WH   \n",
       "\n",
       "         TRPCNT  STOPS  TOUR_FLG  \n",
       "1164975       1      0         0  \n",
       "1164976       1      0         0  "
      ]
     },
     "execution_count": 6,
     "metadata": {},
     "output_type": "execute_result"
    }
   ],
   "source": [
    "trip_data.tail(2)"
   ]
  },
  {
   "cell_type": "markdown",
   "metadata": {},
   "source": [
    "## a. Limit the number of rows read"
   ]
  },
  {
   "cell_type": "code",
   "execution_count": 7,
   "metadata": {
    "collapsed": false,
    "scrolled": true
   },
   "outputs": [
    {
     "data": {
      "text/html": [
       "<div>\n",
       "<table border=\"1\" class=\"dataframe\">\n",
       "  <thead>\n",
       "    <tr style=\"text-align: right;\">\n",
       "      <th></th>\n",
       "      <th>HOUSEID</th>\n",
       "      <th>PERSONID</th>\n",
       "      <th>TDTRPNUM</th>\n",
       "      <th>WTTRDFIN</th>\n",
       "      <th>TOUR</th>\n",
       "      <th>TOUR_SEG</th>\n",
       "      <th>TOURTYPE</th>\n",
       "      <th>TRPCNT</th>\n",
       "      <th>STOPS</th>\n",
       "      <th>TOUR_FLG</th>\n",
       "    </tr>\n",
       "  </thead>\n",
       "  <tbody>\n",
       "    <tr>\n",
       "      <th>0</th>\n",
       "      <td>20000017</td>\n",
       "      <td>1</td>\n",
       "      <td>1</td>\n",
       "      <td>68170.670425</td>\n",
       "      <td>1</td>\n",
       "      <td>1</td>\n",
       "      <td>HO</td>\n",
       "      <td>1</td>\n",
       "      <td>0</td>\n",
       "      <td>0</td>\n",
       "    </tr>\n",
       "  </tbody>\n",
       "</table>\n",
       "</div>"
      ],
      "text/plain": [
       "    HOUSEID  PERSONID  TDTRPNUM      WTTRDFIN  TOUR  TOUR_SEG TOURTYPE  \\\n",
       "0  20000017         1         1  68170.670425     1         1       HO   \n",
       "\n",
       "   TRPCNT  STOPS  TOUR_FLG  \n",
       "0       1      0         0  "
      ]
     },
     "execution_count": 7,
     "metadata": {},
     "output_type": "execute_result"
    }
   ],
   "source": [
    "trip_data = pd.read_csv(\"chntrp09/TripChainingCSV/chntrp09.csv\", nrows = 1)\n",
    "trip_data.head()"
   ]
  },
  {
   "cell_type": "markdown",
   "metadata": {},
   "source": [
    "## b. Choose which columns to import"
   ]
  },
  {
   "cell_type": "code",
   "execution_count": 8,
   "metadata": {
    "collapsed": false
   },
   "outputs": [
    {
     "data": {
      "text/html": [
       "<div>\n",
       "<table border=\"1\" class=\"dataframe\">\n",
       "  <thead>\n",
       "    <tr style=\"text-align: right;\">\n",
       "      <th></th>\n",
       "      <th>HOUSEID</th>\n",
       "      <th>PERSONID</th>\n",
       "    </tr>\n",
       "  </thead>\n",
       "  <tbody>\n",
       "    <tr>\n",
       "      <th>0</th>\n",
       "      <td>20000017</td>\n",
       "      <td>1</td>\n",
       "    </tr>\n",
       "    <tr>\n",
       "      <th>1</th>\n",
       "      <td>20000017</td>\n",
       "      <td>1</td>\n",
       "    </tr>\n",
       "    <tr>\n",
       "      <th>2</th>\n",
       "      <td>20000017</td>\n",
       "      <td>1</td>\n",
       "    </tr>\n",
       "    <tr>\n",
       "      <th>3</th>\n",
       "      <td>20000017</td>\n",
       "      <td>1</td>\n",
       "    </tr>\n",
       "    <tr>\n",
       "      <th>4</th>\n",
       "      <td>20000017</td>\n",
       "      <td>1</td>\n",
       "    </tr>\n",
       "  </tbody>\n",
       "</table>\n",
       "</div>"
      ],
      "text/plain": [
       "    HOUSEID  PERSONID\n",
       "0  20000017         1\n",
       "1  20000017         1\n",
       "2  20000017         1\n",
       "3  20000017         1\n",
       "4  20000017         1"
      ]
     },
     "execution_count": 8,
     "metadata": {},
     "output_type": "execute_result"
    }
   ],
   "source": [
    "trip_data = pd.read_csv(\"chntrp09/TripChainingCSV/chntrp09.csv\", usecols=['HOUSEID', 'PERSONID'] )\n",
    "trip_data.head()"
   ]
  },
  {
   "cell_type": "markdown",
   "metadata": {},
   "source": [
    "## c. Import piecewise\n",
    "This is often useful if you have a plan for collapsing data in mind.   \n",
    "For example, you might be counting by groups, so you can count by group within each chunk, and then sum over all chunks."
   ]
  },
  {
   "cell_type": "code",
   "execution_count": 9,
   "metadata": {
    "collapsed": false
   },
   "outputs": [
    {
     "name": "stdout",
     "output_type": "stream",
     "text": [
      "Reading chunk 0\n",
      "Reading chunk 1\n",
      "Reading chunk 2\n",
      "Reading chunk 3\n"
     ]
    }
   ],
   "source": [
    "counter = 0\n",
    "\n",
    "for trip_data_chunk in pd.read_csv(\"chntrp09/TripChainingCSV/chntrp09.csv\", \n",
    "                                   usecols=['HOUSEID', 'PERSONID'],\n",
    "                                  chunksize=300000):\n",
    "    \n",
    "    print \"Reading chunk\", counter\n",
    "    counter +=1"
   ]
  },
  {
   "cell_type": "code",
   "execution_count": 10,
   "metadata": {
    "collapsed": true
   },
   "outputs": [],
   "source": [
    "### How would you read the first 2,000 rows of the 'TOUR' and 'TOUR_SEG' columns?"
   ]
  },
  {
   "cell_type": "markdown",
   "metadata": {},
   "source": [
    "<font color = \"white\"> \n",
    "\n",
    "trip_data = pd.read_csv(\"chntrp09/TripChainingCSV/chntrp09.csv\", nrows = 2000, usecols=['TOUR', 'TOUR_SEG'])"
   ]
  },
  {
   "cell_type": "markdown",
   "metadata": {},
   "source": [
    "# 2. Inspecting the data"
   ]
  },
  {
   "cell_type": "code",
   "execution_count": 11,
   "metadata": {
    "collapsed": true
   },
   "outputs": [],
   "source": [
    "trip_data = pd.read_csv(\"chntrp09/TripChainingCSV/chntrp09.csv\")"
   ]
  },
  {
   "cell_type": "markdown",
   "metadata": {},
   "source": [
    "## a. How many rows and columns?"
   ]
  },
  {
   "cell_type": "code",
   "execution_count": 12,
   "metadata": {
    "collapsed": false
   },
   "outputs": [
    {
     "data": {
      "text/plain": [
       "(1164977, 10)"
      ]
     },
     "execution_count": 12,
     "metadata": {},
     "output_type": "execute_result"
    }
   ],
   "source": [
    "trip_data.shape"
   ]
  },
  {
   "cell_type": "markdown",
   "metadata": {},
   "source": [
    "## b. What are the columns?"
   ]
  },
  {
   "cell_type": "code",
   "execution_count": 13,
   "metadata": {
    "collapsed": false
   },
   "outputs": [
    {
     "data": {
      "text/plain": [
       "Index([u'HOUSEID', u'PERSONID', u'TDTRPNUM', u'WTTRDFIN', u'TOUR', u'TOUR_SEG',\n",
       "       u'TOURTYPE', u'TRPCNT', u'STOPS', u'TOUR_FLG'],\n",
       "      dtype='object')"
      ]
     },
     "execution_count": 13,
     "metadata": {},
     "output_type": "execute_result"
    }
   ],
   "source": [
    "trip_data.columns"
   ]
  },
  {
   "cell_type": "markdown",
   "metadata": {},
   "source": [
    "## c. What are the data types of the columns?"
   ]
  },
  {
   "cell_type": "code",
   "execution_count": 14,
   "metadata": {
    "collapsed": false
   },
   "outputs": [
    {
     "data": {
      "text/plain": [
       "HOUSEID       int64\n",
       "PERSONID      int64\n",
       "TDTRPNUM      int64\n",
       "WTTRDFIN    float64\n",
       "TOUR          int64\n",
       "TOUR_SEG      int64\n",
       "TOURTYPE     object\n",
       "TRPCNT        int64\n",
       "STOPS         int64\n",
       "TOUR_FLG      int64\n",
       "dtype: object"
      ]
     },
     "execution_count": 14,
     "metadata": {},
     "output_type": "execute_result"
    }
   ],
   "source": [
    "trip_data.dtypes"
   ]
  },
  {
   "cell_type": "markdown",
   "metadata": {},
   "source": [
    "## d.  How many entries in the columns?"
   ]
  },
  {
   "cell_type": "code",
   "execution_count": 15,
   "metadata": {
    "collapsed": false
   },
   "outputs": [
    {
     "data": {
      "text/plain": [
       "HOUSEID     1164977\n",
       "PERSONID    1164977\n",
       "TDTRPNUM    1164977\n",
       "WTTRDFIN    1164977\n",
       "TOUR        1164977\n",
       "TOUR_SEG    1164977\n",
       "TOURTYPE    1164977\n",
       "TRPCNT      1164977\n",
       "STOPS       1164977\n",
       "TOUR_FLG    1164977\n",
       "dtype: int64"
      ]
     },
     "execution_count": 15,
     "metadata": {},
     "output_type": "execute_result"
    }
   ],
   "source": [
    "trip_data.count()"
   ]
  },
  {
   "cell_type": "markdown",
   "metadata": {},
   "source": [
    "## e. A brief summary of the columns?"
   ]
  },
  {
   "cell_type": "code",
   "execution_count": 16,
   "metadata": {
    "collapsed": false
   },
   "outputs": [
    {
     "data": {
      "text/html": [
       "<div>\n",
       "<table border=\"1\" class=\"dataframe\">\n",
       "  <thead>\n",
       "    <tr style=\"text-align: right;\">\n",
       "      <th></th>\n",
       "      <th>HOUSEID</th>\n",
       "      <th>PERSONID</th>\n",
       "      <th>TDTRPNUM</th>\n",
       "      <th>WTTRDFIN</th>\n",
       "      <th>TOUR</th>\n",
       "      <th>TOUR_SEG</th>\n",
       "      <th>TRPCNT</th>\n",
       "      <th>STOPS</th>\n",
       "      <th>TOUR_FLG</th>\n",
       "    </tr>\n",
       "  </thead>\n",
       "  <tbody>\n",
       "    <tr>\n",
       "      <th>count</th>\n",
       "      <td>1.164977e+06</td>\n",
       "      <td>1.164977e+06</td>\n",
       "      <td>1.164977e+06</td>\n",
       "      <td>1.164977e+06</td>\n",
       "      <td>1.164977e+06</td>\n",
       "      <td>1.164977e+06</td>\n",
       "      <td>1.164977e+06</td>\n",
       "      <td>1.164977e+06</td>\n",
       "      <td>1.164977e+06</td>\n",
       "    </tr>\n",
       "    <tr>\n",
       "      <th>mean</th>\n",
       "      <td>4.495692e+07</td>\n",
       "      <td>1.768512e+00</td>\n",
       "      <td>3.497851e+00</td>\n",
       "      <td>3.358439e+05</td>\n",
       "      <td>2.417918e+00</td>\n",
       "      <td>1.409985e+00</td>\n",
       "      <td>1.819970e+00</td>\n",
       "      <td>8.199698e-01</td>\n",
       "      <td>3.441441e-01</td>\n",
       "    </tr>\n",
       "    <tr>\n",
       "      <th>std</th>\n",
       "      <td>1.443009e+07</td>\n",
       "      <td>1.018158e+00</td>\n",
       "      <td>2.466440e+00</td>\n",
       "      <td>9.269577e+05</td>\n",
       "      <td>1.481951e+00</td>\n",
       "      <td>8.090722e-01</td>\n",
       "      <td>1.177166e+00</td>\n",
       "      <td>1.177166e+00</td>\n",
       "      <td>4.750886e-01</td>\n",
       "    </tr>\n",
       "    <tr>\n",
       "      <th>min</th>\n",
       "      <td>2.000002e+07</td>\n",
       "      <td>1.000000e+00</td>\n",
       "      <td>1.000000e+00</td>\n",
       "      <td>3.687203e+02</td>\n",
       "      <td>1.000000e+00</td>\n",
       "      <td>1.000000e+00</td>\n",
       "      <td>1.000000e+00</td>\n",
       "      <td>0.000000e+00</td>\n",
       "      <td>0.000000e+00</td>\n",
       "    </tr>\n",
       "    <tr>\n",
       "      <th>25%</th>\n",
       "      <td>3.242965e+07</td>\n",
       "      <td>1.000000e+00</td>\n",
       "      <td>2.000000e+00</td>\n",
       "      <td>3.543230e+04</td>\n",
       "      <td>1.000000e+00</td>\n",
       "      <td>1.000000e+00</td>\n",
       "      <td>1.000000e+00</td>\n",
       "      <td>0.000000e+00</td>\n",
       "      <td>0.000000e+00</td>\n",
       "    </tr>\n",
       "    <tr>\n",
       "      <th>50%</th>\n",
       "      <td>4.494349e+07</td>\n",
       "      <td>1.000000e+00</td>\n",
       "      <td>3.000000e+00</td>\n",
       "      <td>9.556187e+04</td>\n",
       "      <td>2.000000e+00</td>\n",
       "      <td>1.000000e+00</td>\n",
       "      <td>1.000000e+00</td>\n",
       "      <td>0.000000e+00</td>\n",
       "      <td>0.000000e+00</td>\n",
       "    </tr>\n",
       "    <tr>\n",
       "      <th>75%</th>\n",
       "      <td>5.746568e+07</td>\n",
       "      <td>2.000000e+00</td>\n",
       "      <td>5.000000e+00</td>\n",
       "      <td>2.590409e+05</td>\n",
       "      <td>3.000000e+00</td>\n",
       "      <td>2.000000e+00</td>\n",
       "      <td>2.000000e+00</td>\n",
       "      <td>1.000000e+00</td>\n",
       "      <td>1.000000e+00</td>\n",
       "    </tr>\n",
       "    <tr>\n",
       "      <th>max</th>\n",
       "      <td>6.999981e+07</td>\n",
       "      <td>1.300000e+01</td>\n",
       "      <td>3.200000e+01</td>\n",
       "      <td>2.705896e+07</td>\n",
       "      <td>2.300000e+01</td>\n",
       "      <td>2.100000e+01</td>\n",
       "      <td>2.100000e+01</td>\n",
       "      <td>2.000000e+01</td>\n",
       "      <td>1.000000e+00</td>\n",
       "    </tr>\n",
       "  </tbody>\n",
       "</table>\n",
       "</div>"
      ],
      "text/plain": [
       "            HOUSEID      PERSONID      TDTRPNUM      WTTRDFIN          TOUR  \\\n",
       "count  1.164977e+06  1.164977e+06  1.164977e+06  1.164977e+06  1.164977e+06   \n",
       "mean   4.495692e+07  1.768512e+00  3.497851e+00  3.358439e+05  2.417918e+00   \n",
       "std    1.443009e+07  1.018158e+00  2.466440e+00  9.269577e+05  1.481951e+00   \n",
       "min    2.000002e+07  1.000000e+00  1.000000e+00  3.687203e+02  1.000000e+00   \n",
       "25%    3.242965e+07  1.000000e+00  2.000000e+00  3.543230e+04  1.000000e+00   \n",
       "50%    4.494349e+07  1.000000e+00  3.000000e+00  9.556187e+04  2.000000e+00   \n",
       "75%    5.746568e+07  2.000000e+00  5.000000e+00  2.590409e+05  3.000000e+00   \n",
       "max    6.999981e+07  1.300000e+01  3.200000e+01  2.705896e+07  2.300000e+01   \n",
       "\n",
       "           TOUR_SEG        TRPCNT         STOPS      TOUR_FLG  \n",
       "count  1.164977e+06  1.164977e+06  1.164977e+06  1.164977e+06  \n",
       "mean   1.409985e+00  1.819970e+00  8.199698e-01  3.441441e-01  \n",
       "std    8.090722e-01  1.177166e+00  1.177166e+00  4.750886e-01  \n",
       "min    1.000000e+00  1.000000e+00  0.000000e+00  0.000000e+00  \n",
       "25%    1.000000e+00  1.000000e+00  0.000000e+00  0.000000e+00  \n",
       "50%    1.000000e+00  1.000000e+00  0.000000e+00  0.000000e+00  \n",
       "75%    2.000000e+00  2.000000e+00  1.000000e+00  1.000000e+00  \n",
       "max    2.100000e+01  2.100000e+01  2.000000e+01  1.000000e+00  "
      ]
     },
     "execution_count": 16,
     "metadata": {},
     "output_type": "execute_result"
    }
   ],
   "source": [
    "trip_data.describe()"
   ]
  },
  {
   "cell_type": "markdown",
   "metadata": {},
   "source": [
    "# 3. Browsing and selecting data"
   ]
  },
  {
   "cell_type": "code",
   "execution_count": 17,
   "metadata": {
    "collapsed": false
   },
   "outputs": [
    {
     "data": {
      "text/html": [
       "<div>\n",
       "<table border=\"1\" class=\"dataframe\">\n",
       "  <thead>\n",
       "    <tr style=\"text-align: right;\">\n",
       "      <th></th>\n",
       "      <th>HOUSEID</th>\n",
       "      <th>PERSONID</th>\n",
       "      <th>TDTRPNUM</th>\n",
       "      <th>WTTRDFIN</th>\n",
       "      <th>TOUR</th>\n",
       "      <th>TOUR_SEG</th>\n",
       "      <th>TOURTYPE</th>\n",
       "      <th>TRPCNT</th>\n",
       "      <th>STOPS</th>\n",
       "      <th>TOUR_FLG</th>\n",
       "    </tr>\n",
       "  </thead>\n",
       "  <tbody>\n",
       "    <tr>\n",
       "      <th>0</th>\n",
       "      <td>20000017</td>\n",
       "      <td>1</td>\n",
       "      <td>1</td>\n",
       "      <td>68170.670425</td>\n",
       "      <td>1</td>\n",
       "      <td>1</td>\n",
       "      <td>HO</td>\n",
       "      <td>1</td>\n",
       "      <td>0</td>\n",
       "      <td>0</td>\n",
       "    </tr>\n",
       "    <tr>\n",
       "      <th>1</th>\n",
       "      <td>20000017</td>\n",
       "      <td>1</td>\n",
       "      <td>2</td>\n",
       "      <td>68170.670425</td>\n",
       "      <td>2</td>\n",
       "      <td>1</td>\n",
       "      <td>OO</td>\n",
       "      <td>1</td>\n",
       "      <td>0</td>\n",
       "      <td>0</td>\n",
       "    </tr>\n",
       "    <tr>\n",
       "      <th>2</th>\n",
       "      <td>20000017</td>\n",
       "      <td>1</td>\n",
       "      <td>3</td>\n",
       "      <td>68170.670425</td>\n",
       "      <td>3</td>\n",
       "      <td>1</td>\n",
       "      <td>OH</td>\n",
       "      <td>1</td>\n",
       "      <td>0</td>\n",
       "      <td>0</td>\n",
       "    </tr>\n",
       "    <tr>\n",
       "      <th>3</th>\n",
       "      <td>20000017</td>\n",
       "      <td>1</td>\n",
       "      <td>4</td>\n",
       "      <td>68170.670425</td>\n",
       "      <td>4</td>\n",
       "      <td>1</td>\n",
       "      <td>HO</td>\n",
       "      <td>1</td>\n",
       "      <td>0</td>\n",
       "      <td>0</td>\n",
       "    </tr>\n",
       "    <tr>\n",
       "      <th>4</th>\n",
       "      <td>20000017</td>\n",
       "      <td>1</td>\n",
       "      <td>5</td>\n",
       "      <td>68170.670425</td>\n",
       "      <td>5</td>\n",
       "      <td>1</td>\n",
       "      <td>OH</td>\n",
       "      <td>1</td>\n",
       "      <td>0</td>\n",
       "      <td>0</td>\n",
       "    </tr>\n",
       "  </tbody>\n",
       "</table>\n",
       "</div>"
      ],
      "text/plain": [
       "    HOUSEID  PERSONID  TDTRPNUM      WTTRDFIN  TOUR  TOUR_SEG TOURTYPE  \\\n",
       "0  20000017         1         1  68170.670425     1         1       HO   \n",
       "1  20000017         1         2  68170.670425     2         1       OO   \n",
       "2  20000017         1         3  68170.670425     3         1       OH   \n",
       "3  20000017         1         4  68170.670425     4         1       HO   \n",
       "4  20000017         1         5  68170.670425     5         1       OH   \n",
       "\n",
       "   TRPCNT  STOPS  TOUR_FLG  \n",
       "0       1      0         0  \n",
       "1       1      0         0  \n",
       "2       1      0         0  \n",
       "3       1      0         0  \n",
       "4       1      0         0  "
      ]
     },
     "execution_count": 17,
     "metadata": {},
     "output_type": "execute_result"
    }
   ],
   "source": [
    "trip_data.head()"
   ]
  },
  {
   "cell_type": "markdown",
   "metadata": {},
   "source": [
    "## a. Select columns\n",
    "### Single"
   ]
  },
  {
   "cell_type": "code",
   "execution_count": 18,
   "metadata": {
    "collapsed": false
   },
   "outputs": [
    {
     "data": {
      "text/plain": [
       "0    20000017\n",
       "1    20000017\n",
       "2    20000017\n",
       "3    20000017\n",
       "4    20000017\n",
       "Name: HOUSEID, dtype: int64"
      ]
     },
     "execution_count": 18,
     "metadata": {},
     "output_type": "execute_result"
    }
   ],
   "source": [
    "trip_data.HOUSEID.head()"
   ]
  },
  {
   "cell_type": "code",
   "execution_count": 19,
   "metadata": {
    "collapsed": false
   },
   "outputs": [
    {
     "data": {
      "text/plain": [
       "0    20000017\n",
       "1    20000017\n",
       "2    20000017\n",
       "3    20000017\n",
       "4    20000017\n",
       "Name: HOUSEID, dtype: int64"
      ]
     },
     "execution_count": 19,
     "metadata": {},
     "output_type": "execute_result"
    }
   ],
   "source": [
    "trip_data['HOUSEID'].head()"
   ]
  },
  {
   "cell_type": "markdown",
   "metadata": {},
   "source": [
    "### Multiple"
   ]
  },
  {
   "cell_type": "code",
   "execution_count": 20,
   "metadata": {
    "collapsed": false
   },
   "outputs": [
    {
     "data": {
      "text/html": [
       "<div>\n",
       "<table border=\"1\" class=\"dataframe\">\n",
       "  <thead>\n",
       "    <tr style=\"text-align: right;\">\n",
       "      <th></th>\n",
       "      <th>HOUSEID</th>\n",
       "      <th>TOUR</th>\n",
       "    </tr>\n",
       "  </thead>\n",
       "  <tbody>\n",
       "    <tr>\n",
       "      <th>0</th>\n",
       "      <td>20000017</td>\n",
       "      <td>1</td>\n",
       "    </tr>\n",
       "    <tr>\n",
       "      <th>1</th>\n",
       "      <td>20000017</td>\n",
       "      <td>2</td>\n",
       "    </tr>\n",
       "    <tr>\n",
       "      <th>2</th>\n",
       "      <td>20000017</td>\n",
       "      <td>3</td>\n",
       "    </tr>\n",
       "    <tr>\n",
       "      <th>3</th>\n",
       "      <td>20000017</td>\n",
       "      <td>4</td>\n",
       "    </tr>\n",
       "    <tr>\n",
       "      <th>4</th>\n",
       "      <td>20000017</td>\n",
       "      <td>5</td>\n",
       "    </tr>\n",
       "  </tbody>\n",
       "</table>\n",
       "</div>"
      ],
      "text/plain": [
       "    HOUSEID  TOUR\n",
       "0  20000017     1\n",
       "1  20000017     2\n",
       "2  20000017     3\n",
       "3  20000017     4\n",
       "4  20000017     5"
      ]
     },
     "execution_count": 20,
     "metadata": {},
     "output_type": "execute_result"
    }
   ],
   "source": [
    "trip_data[['HOUSEID','TOUR']].head()"
   ]
  },
  {
   "cell_type": "markdown",
   "metadata": {},
   "source": [
    "## c. Select rows\n",
    "### Single"
   ]
  },
  {
   "cell_type": "code",
   "execution_count": 21,
   "metadata": {
    "collapsed": false
   },
   "outputs": [
    {
     "data": {
      "text/plain": [
       "HOUSEID     20000017\n",
       "PERSONID           1\n",
       "TDTRPNUM           1\n",
       "WTTRDFIN     68170.7\n",
       "TOUR               1\n",
       "TOUR_SEG           1\n",
       "TOURTYPE          HO\n",
       "TRPCNT             1\n",
       "STOPS              0\n",
       "TOUR_FLG           0\n",
       "Name: 0, dtype: object"
      ]
     },
     "execution_count": 21,
     "metadata": {},
     "output_type": "execute_result"
    }
   ],
   "source": [
    "trip_data.loc[0]"
   ]
  },
  {
   "cell_type": "markdown",
   "metadata": {},
   "source": [
    "### Mutiple"
   ]
  },
  {
   "cell_type": "code",
   "execution_count": 22,
   "metadata": {
    "collapsed": false
   },
   "outputs": [
    {
     "data": {
      "text/html": [
       "<div>\n",
       "<table border=\"1\" class=\"dataframe\">\n",
       "  <thead>\n",
       "    <tr style=\"text-align: right;\">\n",
       "      <th></th>\n",
       "      <th>HOUSEID</th>\n",
       "      <th>PERSONID</th>\n",
       "      <th>TDTRPNUM</th>\n",
       "      <th>WTTRDFIN</th>\n",
       "      <th>TOUR</th>\n",
       "      <th>TOUR_SEG</th>\n",
       "      <th>TOURTYPE</th>\n",
       "      <th>TRPCNT</th>\n",
       "      <th>STOPS</th>\n",
       "      <th>TOUR_FLG</th>\n",
       "    </tr>\n",
       "  </thead>\n",
       "  <tbody>\n",
       "    <tr>\n",
       "      <th>0</th>\n",
       "      <td>20000017</td>\n",
       "      <td>1</td>\n",
       "      <td>1</td>\n",
       "      <td>68170.670425</td>\n",
       "      <td>1</td>\n",
       "      <td>1</td>\n",
       "      <td>HO</td>\n",
       "      <td>1</td>\n",
       "      <td>0</td>\n",
       "      <td>0</td>\n",
       "    </tr>\n",
       "    <tr>\n",
       "      <th>6</th>\n",
       "      <td>20000017</td>\n",
       "      <td>2</td>\n",
       "      <td>2</td>\n",
       "      <td>69589.496462</td>\n",
       "      <td>1</td>\n",
       "      <td>2</td>\n",
       "      <td>HO</td>\n",
       "      <td>2</td>\n",
       "      <td>1</td>\n",
       "      <td>1</td>\n",
       "    </tr>\n",
       "  </tbody>\n",
       "</table>\n",
       "</div>"
      ],
      "text/plain": [
       "    HOUSEID  PERSONID  TDTRPNUM      WTTRDFIN  TOUR  TOUR_SEG TOURTYPE  \\\n",
       "0  20000017         1         1  68170.670425     1         1       HO   \n",
       "6  20000017         2         2  69589.496462     1         2       HO   \n",
       "\n",
       "   TRPCNT  STOPS  TOUR_FLG  \n",
       "0       1      0         0  \n",
       "6       2      1         1  "
      ]
     },
     "execution_count": 22,
     "metadata": {},
     "output_type": "execute_result"
    }
   ],
   "source": [
    "trip_data.loc[[0,6]]"
   ]
  },
  {
   "cell_type": "code",
   "execution_count": 23,
   "metadata": {
    "collapsed": false
   },
   "outputs": [
    {
     "data": {
      "text/html": [
       "<div>\n",
       "<table border=\"1\" class=\"dataframe\">\n",
       "  <thead>\n",
       "    <tr style=\"text-align: right;\">\n",
       "      <th></th>\n",
       "      <th>HOUSEID</th>\n",
       "      <th>PERSONID</th>\n",
       "      <th>TDTRPNUM</th>\n",
       "      <th>WTTRDFIN</th>\n",
       "      <th>TOUR</th>\n",
       "      <th>TOUR_SEG</th>\n",
       "      <th>TOURTYPE</th>\n",
       "      <th>TRPCNT</th>\n",
       "      <th>STOPS</th>\n",
       "      <th>TOUR_FLG</th>\n",
       "    </tr>\n",
       "  </thead>\n",
       "  <tbody>\n",
       "    <tr>\n",
       "      <th>0</th>\n",
       "      <td>20000017</td>\n",
       "      <td>1</td>\n",
       "      <td>1</td>\n",
       "      <td>68170.670425</td>\n",
       "      <td>1</td>\n",
       "      <td>1</td>\n",
       "      <td>HO</td>\n",
       "      <td>1</td>\n",
       "      <td>0</td>\n",
       "      <td>0</td>\n",
       "    </tr>\n",
       "    <tr>\n",
       "      <th>1</th>\n",
       "      <td>20000017</td>\n",
       "      <td>1</td>\n",
       "      <td>2</td>\n",
       "      <td>68170.670425</td>\n",
       "      <td>2</td>\n",
       "      <td>1</td>\n",
       "      <td>OO</td>\n",
       "      <td>1</td>\n",
       "      <td>0</td>\n",
       "      <td>0</td>\n",
       "    </tr>\n",
       "    <tr>\n",
       "      <th>2</th>\n",
       "      <td>20000017</td>\n",
       "      <td>1</td>\n",
       "      <td>3</td>\n",
       "      <td>68170.670425</td>\n",
       "      <td>3</td>\n",
       "      <td>1</td>\n",
       "      <td>OH</td>\n",
       "      <td>1</td>\n",
       "      <td>0</td>\n",
       "      <td>0</td>\n",
       "    </tr>\n",
       "    <tr>\n",
       "      <th>3</th>\n",
       "      <td>20000017</td>\n",
       "      <td>1</td>\n",
       "      <td>4</td>\n",
       "      <td>68170.670425</td>\n",
       "      <td>4</td>\n",
       "      <td>1</td>\n",
       "      <td>HO</td>\n",
       "      <td>1</td>\n",
       "      <td>0</td>\n",
       "      <td>0</td>\n",
       "    </tr>\n",
       "    <tr>\n",
       "      <th>4</th>\n",
       "      <td>20000017</td>\n",
       "      <td>1</td>\n",
       "      <td>5</td>\n",
       "      <td>68170.670425</td>\n",
       "      <td>5</td>\n",
       "      <td>1</td>\n",
       "      <td>OH</td>\n",
       "      <td>1</td>\n",
       "      <td>0</td>\n",
       "      <td>0</td>\n",
       "    </tr>\n",
       "    <tr>\n",
       "      <th>5</th>\n",
       "      <td>20000017</td>\n",
       "      <td>2</td>\n",
       "      <td>1</td>\n",
       "      <td>69589.496462</td>\n",
       "      <td>1</td>\n",
       "      <td>1</td>\n",
       "      <td>HO</td>\n",
       "      <td>2</td>\n",
       "      <td>1</td>\n",
       "      <td>1</td>\n",
       "    </tr>\n",
       "    <tr>\n",
       "      <th>6</th>\n",
       "      <td>20000017</td>\n",
       "      <td>2</td>\n",
       "      <td>2</td>\n",
       "      <td>69589.496462</td>\n",
       "      <td>1</td>\n",
       "      <td>2</td>\n",
       "      <td>HO</td>\n",
       "      <td>2</td>\n",
       "      <td>1</td>\n",
       "      <td>1</td>\n",
       "    </tr>\n",
       "  </tbody>\n",
       "</table>\n",
       "</div>"
      ],
      "text/plain": [
       "    HOUSEID  PERSONID  TDTRPNUM      WTTRDFIN  TOUR  TOUR_SEG TOURTYPE  \\\n",
       "0  20000017         1         1  68170.670425     1         1       HO   \n",
       "1  20000017         1         2  68170.670425     2         1       OO   \n",
       "2  20000017         1         3  68170.670425     3         1       OH   \n",
       "3  20000017         1         4  68170.670425     4         1       HO   \n",
       "4  20000017         1         5  68170.670425     5         1       OH   \n",
       "5  20000017         2         1  69589.496462     1         1       HO   \n",
       "6  20000017         2         2  69589.496462     1         2       HO   \n",
       "\n",
       "   TRPCNT  STOPS  TOUR_FLG  \n",
       "0       1      0         0  \n",
       "1       1      0         0  \n",
       "2       1      0         0  \n",
       "3       1      0         0  \n",
       "4       1      0         0  \n",
       "5       2      1         1  \n",
       "6       2      1         1  "
      ]
     },
     "execution_count": 23,
     "metadata": {},
     "output_type": "execute_result"
    }
   ],
   "source": [
    "trip_data.loc[0:6]"
   ]
  },
  {
   "cell_type": "markdown",
   "metadata": {},
   "source": [
    "## e. Select cells\n",
    "### Single"
   ]
  },
  {
   "cell_type": "code",
   "execution_count": 24,
   "metadata": {
    "collapsed": false
   },
   "outputs": [
    {
     "data": {
      "text/plain": [
       "4"
      ]
     },
     "execution_count": 24,
     "metadata": {},
     "output_type": "execute_result"
    }
   ],
   "source": [
    "trip_data.loc[3, \"TDTRPNUM\"]"
   ]
  },
  {
   "cell_type": "markdown",
   "metadata": {},
   "source": [
    "### Multiple"
   ]
  },
  {
   "cell_type": "code",
   "execution_count": 25,
   "metadata": {
    "collapsed": false
   },
   "outputs": [
    {
     "data": {
      "text/html": [
       "<div>\n",
       "<table border=\"1\" class=\"dataframe\">\n",
       "  <thead>\n",
       "    <tr style=\"text-align: right;\">\n",
       "      <th></th>\n",
       "      <th>TDTRPNUM</th>\n",
       "      <th>WTTRDFIN</th>\n",
       "      <th>TOUR</th>\n",
       "    </tr>\n",
       "  </thead>\n",
       "  <tbody>\n",
       "    <tr>\n",
       "      <th>3</th>\n",
       "      <td>4</td>\n",
       "      <td>68170.670425</td>\n",
       "      <td>4</td>\n",
       "    </tr>\n",
       "    <tr>\n",
       "      <th>4</th>\n",
       "      <td>5</td>\n",
       "      <td>68170.670425</td>\n",
       "      <td>5</td>\n",
       "    </tr>\n",
       "    <tr>\n",
       "      <th>5</th>\n",
       "      <td>1</td>\n",
       "      <td>69589.496462</td>\n",
       "      <td>1</td>\n",
       "    </tr>\n",
       "    <tr>\n",
       "      <th>6</th>\n",
       "      <td>2</td>\n",
       "      <td>69589.496462</td>\n",
       "      <td>1</td>\n",
       "    </tr>\n",
       "    <tr>\n",
       "      <th>7</th>\n",
       "      <td>3</td>\n",
       "      <td>69589.496462</td>\n",
       "      <td>2</td>\n",
       "    </tr>\n",
       "  </tbody>\n",
       "</table>\n",
       "</div>"
      ],
      "text/plain": [
       "   TDTRPNUM      WTTRDFIN  TOUR\n",
       "3         4  68170.670425     4\n",
       "4         5  68170.670425     5\n",
       "5         1  69589.496462     1\n",
       "6         2  69589.496462     1\n",
       "7         3  69589.496462     2"
      ]
     },
     "execution_count": 25,
     "metadata": {},
     "output_type": "execute_result"
    }
   ],
   "source": [
    "trip_data.loc[3:7, \"TDTRPNUM\":'TOUR']"
   ]
  },
  {
   "cell_type": "markdown",
   "metadata": {},
   "source": [
    "## f. Select subset"
   ]
  },
  {
   "cell_type": "code",
   "execution_count": 26,
   "metadata": {
    "collapsed": false
   },
   "outputs": [
    {
     "data": {
      "text/html": [
       "<div>\n",
       "<table border=\"1\" class=\"dataframe\">\n",
       "  <thead>\n",
       "    <tr style=\"text-align: right;\">\n",
       "      <th></th>\n",
       "      <th>HOUSEID</th>\n",
       "      <th>PERSONID</th>\n",
       "      <th>TDTRPNUM</th>\n",
       "      <th>WTTRDFIN</th>\n",
       "      <th>TOUR</th>\n",
       "      <th>TOUR_SEG</th>\n",
       "      <th>TOURTYPE</th>\n",
       "      <th>TRPCNT</th>\n",
       "      <th>STOPS</th>\n",
       "      <th>TOUR_FLG</th>\n",
       "    </tr>\n",
       "  </thead>\n",
       "  <tbody>\n",
       "    <tr>\n",
       "      <th>1</th>\n",
       "      <td>20000017</td>\n",
       "      <td>1</td>\n",
       "      <td>2</td>\n",
       "      <td>68170.670425</td>\n",
       "      <td>2</td>\n",
       "      <td>1</td>\n",
       "      <td>OO</td>\n",
       "      <td>1</td>\n",
       "      <td>0</td>\n",
       "      <td>0</td>\n",
       "    </tr>\n",
       "    <tr>\n",
       "      <th>7</th>\n",
       "      <td>20000017</td>\n",
       "      <td>2</td>\n",
       "      <td>3</td>\n",
       "      <td>69589.496462</td>\n",
       "      <td>2</td>\n",
       "      <td>1</td>\n",
       "      <td>OO</td>\n",
       "      <td>2</td>\n",
       "      <td>1</td>\n",
       "      <td>1</td>\n",
       "    </tr>\n",
       "    <tr>\n",
       "      <th>8</th>\n",
       "      <td>20000017</td>\n",
       "      <td>2</td>\n",
       "      <td>4</td>\n",
       "      <td>69589.496462</td>\n",
       "      <td>2</td>\n",
       "      <td>2</td>\n",
       "      <td>OO</td>\n",
       "      <td>2</td>\n",
       "      <td>1</td>\n",
       "      <td>1</td>\n",
       "    </tr>\n",
       "    <tr>\n",
       "      <th>15</th>\n",
       "      <td>20000231</td>\n",
       "      <td>1</td>\n",
       "      <td>3</td>\n",
       "      <td>522885.472560</td>\n",
       "      <td>2</td>\n",
       "      <td>1</td>\n",
       "      <td>WH</td>\n",
       "      <td>1</td>\n",
       "      <td>0</td>\n",
       "      <td>0</td>\n",
       "    </tr>\n",
       "    <tr>\n",
       "      <th>19</th>\n",
       "      <td>20000521</td>\n",
       "      <td>1</td>\n",
       "      <td>2</td>\n",
       "      <td>117718.426110</td>\n",
       "      <td>2</td>\n",
       "      <td>1</td>\n",
       "      <td>OH</td>\n",
       "      <td>3</td>\n",
       "      <td>2</td>\n",
       "      <td>1</td>\n",
       "    </tr>\n",
       "  </tbody>\n",
       "</table>\n",
       "</div>"
      ],
      "text/plain": [
       "     HOUSEID  PERSONID  TDTRPNUM       WTTRDFIN  TOUR  TOUR_SEG TOURTYPE  \\\n",
       "1   20000017         1         2   68170.670425     2         1       OO   \n",
       "7   20000017         2         3   69589.496462     2         1       OO   \n",
       "8   20000017         2         4   69589.496462     2         2       OO   \n",
       "15  20000231         1         3  522885.472560     2         1       WH   \n",
       "19  20000521         1         2  117718.426110     2         1       OH   \n",
       "\n",
       "    TRPCNT  STOPS  TOUR_FLG  \n",
       "1        1      0         0  \n",
       "7        2      1         1  \n",
       "8        2      1         1  \n",
       "15       1      0         0  \n",
       "19       3      2         1  "
      ]
     },
     "execution_count": 26,
     "metadata": {},
     "output_type": "execute_result"
    }
   ],
   "source": [
    "trip_data[trip_data.TOUR==2].head()"
   ]
  },
  {
   "cell_type": "code",
   "execution_count": 27,
   "metadata": {
    "collapsed": false
   },
   "outputs": [
    {
     "data": {
      "text/html": [
       "<div>\n",
       "<table border=\"1\" class=\"dataframe\">\n",
       "  <thead>\n",
       "    <tr style=\"text-align: right;\">\n",
       "      <th></th>\n",
       "      <th>HOUSEID</th>\n",
       "      <th>PERSONID</th>\n",
       "      <th>TDTRPNUM</th>\n",
       "      <th>WTTRDFIN</th>\n",
       "      <th>TOUR</th>\n",
       "      <th>TOUR_SEG</th>\n",
       "      <th>TOURTYPE</th>\n",
       "      <th>TRPCNT</th>\n",
       "      <th>STOPS</th>\n",
       "      <th>TOUR_FLG</th>\n",
       "    </tr>\n",
       "  </thead>\n",
       "  <tbody>\n",
       "    <tr>\n",
       "      <th>1</th>\n",
       "      <td>20000017</td>\n",
       "      <td>1</td>\n",
       "      <td>2</td>\n",
       "      <td>68170.670425</td>\n",
       "      <td>2</td>\n",
       "      <td>1</td>\n",
       "      <td>OO</td>\n",
       "      <td>1</td>\n",
       "      <td>0</td>\n",
       "      <td>0</td>\n",
       "    </tr>\n",
       "    <tr>\n",
       "      <th>15</th>\n",
       "      <td>20000231</td>\n",
       "      <td>1</td>\n",
       "      <td>3</td>\n",
       "      <td>522885.472560</td>\n",
       "      <td>2</td>\n",
       "      <td>1</td>\n",
       "      <td>WH</td>\n",
       "      <td>1</td>\n",
       "      <td>0</td>\n",
       "      <td>0</td>\n",
       "    </tr>\n",
       "    <tr>\n",
       "      <th>23</th>\n",
       "      <td>20000521</td>\n",
       "      <td>2</td>\n",
       "      <td>2</td>\n",
       "      <td>132561.492020</td>\n",
       "      <td>2</td>\n",
       "      <td>1</td>\n",
       "      <td>OH</td>\n",
       "      <td>1</td>\n",
       "      <td>0</td>\n",
       "      <td>0</td>\n",
       "    </tr>\n",
       "    <tr>\n",
       "      <th>29</th>\n",
       "      <td>20001603</td>\n",
       "      <td>1</td>\n",
       "      <td>2</td>\n",
       "      <td>37531.737404</td>\n",
       "      <td>2</td>\n",
       "      <td>1</td>\n",
       "      <td>OO</td>\n",
       "      <td>1</td>\n",
       "      <td>0</td>\n",
       "      <td>0</td>\n",
       "    </tr>\n",
       "    <tr>\n",
       "      <th>47</th>\n",
       "      <td>20001649</td>\n",
       "      <td>1</td>\n",
       "      <td>4</td>\n",
       "      <td>290512.795790</td>\n",
       "      <td>2</td>\n",
       "      <td>1</td>\n",
       "      <td>OH</td>\n",
       "      <td>1</td>\n",
       "      <td>0</td>\n",
       "      <td>0</td>\n",
       "    </tr>\n",
       "  </tbody>\n",
       "</table>\n",
       "</div>"
      ],
      "text/plain": [
       "     HOUSEID  PERSONID  TDTRPNUM       WTTRDFIN  TOUR  TOUR_SEG TOURTYPE  \\\n",
       "1   20000017         1         2   68170.670425     2         1       OO   \n",
       "15  20000231         1         3  522885.472560     2         1       WH   \n",
       "23  20000521         2         2  132561.492020     2         1       OH   \n",
       "29  20001603         1         2   37531.737404     2         1       OO   \n",
       "47  20001649         1         4  290512.795790     2         1       OH   \n",
       "\n",
       "    TRPCNT  STOPS  TOUR_FLG  \n",
       "1        1      0         0  \n",
       "15       1      0         0  \n",
       "23       1      0         0  \n",
       "29       1      0         0  \n",
       "47       1      0         0  "
      ]
     },
     "execution_count": 27,
     "metadata": {},
     "output_type": "execute_result"
    }
   ],
   "source": [
    "trip_data[(trip_data.TOUR==2) & (trip_data.STOPS==0)].head()"
   ]
  },
  {
   "cell_type": "code",
   "execution_count": 28,
   "metadata": {
    "collapsed": false
   },
   "outputs": [
    {
     "data": {
      "text/plain": [
       "13    522885.47256\n",
       "14    522885.47256\n",
       "15    522885.47256\n",
       "16    522885.47256\n",
       "17    522885.47256\n",
       "Name: WTTRDFIN, dtype: float64"
      ]
     },
     "execution_count": 28,
     "metadata": {},
     "output_type": "execute_result"
    }
   ],
   "source": [
    "trip_data.loc[trip_data.HOUSEID == 20000231, 'WTTRDFIN']"
   ]
  },
  {
   "cell_type": "code",
   "execution_count": 29,
   "metadata": {
    "collapsed": true
   },
   "outputs": [],
   "source": [
    "### How would you select the first 20 rows of 'WTTRDFIN' and 'PERSONID'?"
   ]
  },
  {
   "cell_type": "markdown",
   "metadata": {},
   "source": [
    "<font color=\"white\"> \n",
    "\n",
    "trip_data[:20, ['WTTRDFIN', 'PERSONID']] "
   ]
  },
  {
   "cell_type": "markdown",
   "metadata": {},
   "source": [
    "# 4. Cleaning the data"
   ]
  },
  {
   "cell_type": "markdown",
   "metadata": {},
   "source": [
    "## a. Edit column names\n",
    "### Systematically"
   ]
  },
  {
   "cell_type": "code",
   "execution_count": 30,
   "metadata": {
    "collapsed": false
   },
   "outputs": [
    {
     "data": {
      "text/html": [
       "<div>\n",
       "<table border=\"1\" class=\"dataframe\">\n",
       "  <thead>\n",
       "    <tr style=\"text-align: right;\">\n",
       "      <th></th>\n",
       "      <th>houseid</th>\n",
       "      <th>personid</th>\n",
       "      <th>tdtrpnum</th>\n",
       "      <th>wttrdfin</th>\n",
       "      <th>tour</th>\n",
       "      <th>tour_seg</th>\n",
       "      <th>tourtype</th>\n",
       "      <th>trpcnt</th>\n",
       "      <th>stops</th>\n",
       "      <th>tour_flg</th>\n",
       "    </tr>\n",
       "  </thead>\n",
       "  <tbody>\n",
       "    <tr>\n",
       "      <th>0</th>\n",
       "      <td>20000017</td>\n",
       "      <td>1</td>\n",
       "      <td>1</td>\n",
       "      <td>68170.670425</td>\n",
       "      <td>1</td>\n",
       "      <td>1</td>\n",
       "      <td>HO</td>\n",
       "      <td>1</td>\n",
       "      <td>0</td>\n",
       "      <td>0</td>\n",
       "    </tr>\n",
       "    <tr>\n",
       "      <th>1</th>\n",
       "      <td>20000017</td>\n",
       "      <td>1</td>\n",
       "      <td>2</td>\n",
       "      <td>68170.670425</td>\n",
       "      <td>2</td>\n",
       "      <td>1</td>\n",
       "      <td>OO</td>\n",
       "      <td>1</td>\n",
       "      <td>0</td>\n",
       "      <td>0</td>\n",
       "    </tr>\n",
       "    <tr>\n",
       "      <th>2</th>\n",
       "      <td>20000017</td>\n",
       "      <td>1</td>\n",
       "      <td>3</td>\n",
       "      <td>68170.670425</td>\n",
       "      <td>3</td>\n",
       "      <td>1</td>\n",
       "      <td>OH</td>\n",
       "      <td>1</td>\n",
       "      <td>0</td>\n",
       "      <td>0</td>\n",
       "    </tr>\n",
       "    <tr>\n",
       "      <th>3</th>\n",
       "      <td>20000017</td>\n",
       "      <td>1</td>\n",
       "      <td>4</td>\n",
       "      <td>68170.670425</td>\n",
       "      <td>4</td>\n",
       "      <td>1</td>\n",
       "      <td>HO</td>\n",
       "      <td>1</td>\n",
       "      <td>0</td>\n",
       "      <td>0</td>\n",
       "    </tr>\n",
       "    <tr>\n",
       "      <th>4</th>\n",
       "      <td>20000017</td>\n",
       "      <td>1</td>\n",
       "      <td>5</td>\n",
       "      <td>68170.670425</td>\n",
       "      <td>5</td>\n",
       "      <td>1</td>\n",
       "      <td>OH</td>\n",
       "      <td>1</td>\n",
       "      <td>0</td>\n",
       "      <td>0</td>\n",
       "    </tr>\n",
       "  </tbody>\n",
       "</table>\n",
       "</div>"
      ],
      "text/plain": [
       "    houseid  personid  tdtrpnum      wttrdfin  tour  tour_seg tourtype  \\\n",
       "0  20000017         1         1  68170.670425     1         1       HO   \n",
       "1  20000017         1         2  68170.670425     2         1       OO   \n",
       "2  20000017         1         3  68170.670425     3         1       OH   \n",
       "3  20000017         1         4  68170.670425     4         1       HO   \n",
       "4  20000017         1         5  68170.670425     5         1       OH   \n",
       "\n",
       "   trpcnt  stops  tour_flg  \n",
       "0       1      0         0  \n",
       "1       1      0         0  \n",
       "2       1      0         0  \n",
       "3       1      0         0  \n",
       "4       1      0         0  "
      ]
     },
     "execution_count": 30,
     "metadata": {},
     "output_type": "execute_result"
    }
   ],
   "source": [
    "trip_data.columns = [c.lower() for c in trip_data.columns]\n",
    "trip_data.head()"
   ]
  },
  {
   "cell_type": "markdown",
   "metadata": {},
   "source": [
    "### Manually"
   ]
  },
  {
   "cell_type": "code",
   "execution_count": 31,
   "metadata": {
    "collapsed": false
   },
   "outputs": [
    {
     "data": {
      "text/html": [
       "<div>\n",
       "<table border=\"1\" class=\"dataframe\">\n",
       "  <thead>\n",
       "    <tr style=\"text-align: right;\">\n",
       "      <th></th>\n",
       "      <th>house_id</th>\n",
       "      <th>person_id</th>\n",
       "      <th>tdtrpnum</th>\n",
       "      <th>wttrdfin</th>\n",
       "      <th>tour</th>\n",
       "      <th>tour_seg</th>\n",
       "      <th>tourtype</th>\n",
       "      <th>trpcnt</th>\n",
       "      <th>stops</th>\n",
       "      <th>tour_flg</th>\n",
       "    </tr>\n",
       "  </thead>\n",
       "  <tbody>\n",
       "    <tr>\n",
       "      <th>0</th>\n",
       "      <td>20000017</td>\n",
       "      <td>1</td>\n",
       "      <td>1</td>\n",
       "      <td>68170.670425</td>\n",
       "      <td>1</td>\n",
       "      <td>1</td>\n",
       "      <td>HO</td>\n",
       "      <td>1</td>\n",
       "      <td>0</td>\n",
       "      <td>0</td>\n",
       "    </tr>\n",
       "    <tr>\n",
       "      <th>1</th>\n",
       "      <td>20000017</td>\n",
       "      <td>1</td>\n",
       "      <td>2</td>\n",
       "      <td>68170.670425</td>\n",
       "      <td>2</td>\n",
       "      <td>1</td>\n",
       "      <td>OO</td>\n",
       "      <td>1</td>\n",
       "      <td>0</td>\n",
       "      <td>0</td>\n",
       "    </tr>\n",
       "    <tr>\n",
       "      <th>2</th>\n",
       "      <td>20000017</td>\n",
       "      <td>1</td>\n",
       "      <td>3</td>\n",
       "      <td>68170.670425</td>\n",
       "      <td>3</td>\n",
       "      <td>1</td>\n",
       "      <td>OH</td>\n",
       "      <td>1</td>\n",
       "      <td>0</td>\n",
       "      <td>0</td>\n",
       "    </tr>\n",
       "    <tr>\n",
       "      <th>3</th>\n",
       "      <td>20000017</td>\n",
       "      <td>1</td>\n",
       "      <td>4</td>\n",
       "      <td>68170.670425</td>\n",
       "      <td>4</td>\n",
       "      <td>1</td>\n",
       "      <td>HO</td>\n",
       "      <td>1</td>\n",
       "      <td>0</td>\n",
       "      <td>0</td>\n",
       "    </tr>\n",
       "    <tr>\n",
       "      <th>4</th>\n",
       "      <td>20000017</td>\n",
       "      <td>1</td>\n",
       "      <td>5</td>\n",
       "      <td>68170.670425</td>\n",
       "      <td>5</td>\n",
       "      <td>1</td>\n",
       "      <td>OH</td>\n",
       "      <td>1</td>\n",
       "      <td>0</td>\n",
       "      <td>0</td>\n",
       "    </tr>\n",
       "  </tbody>\n",
       "</table>\n",
       "</div>"
      ],
      "text/plain": [
       "   house_id  person_id  tdtrpnum      wttrdfin  tour  tour_seg tourtype  \\\n",
       "0  20000017          1         1  68170.670425     1         1       HO   \n",
       "1  20000017          1         2  68170.670425     2         1       OO   \n",
       "2  20000017          1         3  68170.670425     3         1       OH   \n",
       "3  20000017          1         4  68170.670425     4         1       HO   \n",
       "4  20000017          1         5  68170.670425     5         1       OH   \n",
       "\n",
       "   trpcnt  stops  tour_flg  \n",
       "0       1      0         0  \n",
       "1       1      0         0  \n",
       "2       1      0         0  \n",
       "3       1      0         0  \n",
       "4       1      0         0  "
      ]
     },
     "execution_count": 31,
     "metadata": {},
     "output_type": "execute_result"
    }
   ],
   "source": [
    "trip_data.rename(columns={'houseid': 'house_id',\n",
    "                         'personid': 'person_id'}, inplace = True)\n",
    "trip_data.head()"
   ]
  },
  {
   "cell_type": "markdown",
   "metadata": {},
   "source": [
    "## b. Change column values"
   ]
  },
  {
   "cell_type": "code",
   "execution_count": 32,
   "metadata": {
    "collapsed": false
   },
   "outputs": [
    {
     "data": {
      "text/plain": [
       "count    1.164977e+06\n",
       "mean     1.819970e+00\n",
       "std      1.177166e+00\n",
       "min      1.000000e+00\n",
       "25%      1.000000e+00\n",
       "50%      1.000000e+00\n",
       "75%      2.000000e+00\n",
       "max      2.100000e+01\n",
       "Name: trpcnt, dtype: float64"
      ]
     },
     "execution_count": 32,
     "metadata": {},
     "output_type": "execute_result"
    }
   ],
   "source": [
    "trip_data.trpcnt.describe()"
   ]
  },
  {
   "cell_type": "code",
   "execution_count": 33,
   "metadata": {
    "collapsed": false
   },
   "outputs": [],
   "source": [
    "trip_data.loc[trip_data.trpcnt==21, 'trpcnt'] = 999"
   ]
  },
  {
   "cell_type": "code",
   "execution_count": 34,
   "metadata": {
    "collapsed": false,
    "scrolled": true
   },
   "outputs": [
    {
     "data": {
      "text/plain": [
       "count    1.164977e+06\n",
       "mean     1.837599e+00\n",
       "std      4.393561e+00\n",
       "min      1.000000e+00\n",
       "25%      1.000000e+00\n",
       "50%      1.000000e+00\n",
       "75%      2.000000e+00\n",
       "max      9.990000e+02\n",
       "Name: trpcnt, dtype: float64"
      ]
     },
     "execution_count": 34,
     "metadata": {},
     "output_type": "execute_result"
    }
   ],
   "source": [
    "trip_data.trpcnt.describe()"
   ]
  },
  {
   "cell_type": "code",
   "execution_count": 35,
   "metadata": {
    "collapsed": false
   },
   "outputs": [],
   "source": [
    "trip_data['trpcnt_recoded'] = trip_data['trpcnt'].replace({999:'missing', 1:'only one'})"
   ]
  },
  {
   "cell_type": "code",
   "execution_count": 36,
   "metadata": {
    "collapsed": false
   },
   "outputs": [
    {
     "data": {
      "text/plain": [
       "only one    587983\n",
       "2           369546\n",
       "3           116529\n",
       "4            50568\n",
       "5            21915\n",
       "6             9216\n",
       "7             4452\n",
       "8             2096\n",
       "9             1035\n",
       "10             650\n",
       "11             374\n",
       "13             195\n",
       "12             192\n",
       "14              56\n",
       "16              48\n",
       "15              45\n",
       "missing         21\n",
       "20              20\n",
       "19              19\n",
       "17              17\n",
       "Name: trpcnt_recoded, dtype: int64"
      ]
     },
     "execution_count": 36,
     "metadata": {},
     "output_type": "execute_result"
    }
   ],
   "source": [
    "trip_data.trpcnt_recoded.value_counts()"
   ]
  },
  {
   "cell_type": "markdown",
   "metadata": {},
   "source": [
    "## c. Generate new columns"
   ]
  },
  {
   "cell_type": "code",
   "execution_count": 37,
   "metadata": {
    "collapsed": false
   },
   "outputs": [],
   "source": [
    "trip_data['trpcnt_recoded'] = np.where(trip_data.trpcnt>10, \"A lot\", \"A little\")"
   ]
  },
  {
   "cell_type": "code",
   "execution_count": 38,
   "metadata": {
    "collapsed": false
   },
   "outputs": [
    {
     "data": {
      "text/html": [
       "<div>\n",
       "<table border=\"1\" class=\"dataframe\">\n",
       "  <thead>\n",
       "    <tr style=\"text-align: right;\">\n",
       "      <th>trpcnt_recoded</th>\n",
       "      <th>A little</th>\n",
       "      <th>A lot</th>\n",
       "    </tr>\n",
       "    <tr>\n",
       "      <th>trpcnt</th>\n",
       "      <th></th>\n",
       "      <th></th>\n",
       "    </tr>\n",
       "  </thead>\n",
       "  <tbody>\n",
       "    <tr>\n",
       "      <th>1</th>\n",
       "      <td>587983</td>\n",
       "      <td>0</td>\n",
       "    </tr>\n",
       "    <tr>\n",
       "      <th>2</th>\n",
       "      <td>369546</td>\n",
       "      <td>0</td>\n",
       "    </tr>\n",
       "    <tr>\n",
       "      <th>3</th>\n",
       "      <td>116529</td>\n",
       "      <td>0</td>\n",
       "    </tr>\n",
       "    <tr>\n",
       "      <th>4</th>\n",
       "      <td>50568</td>\n",
       "      <td>0</td>\n",
       "    </tr>\n",
       "    <tr>\n",
       "      <th>5</th>\n",
       "      <td>21915</td>\n",
       "      <td>0</td>\n",
       "    </tr>\n",
       "    <tr>\n",
       "      <th>6</th>\n",
       "      <td>9216</td>\n",
       "      <td>0</td>\n",
       "    </tr>\n",
       "    <tr>\n",
       "      <th>7</th>\n",
       "      <td>4452</td>\n",
       "      <td>0</td>\n",
       "    </tr>\n",
       "    <tr>\n",
       "      <th>8</th>\n",
       "      <td>2096</td>\n",
       "      <td>0</td>\n",
       "    </tr>\n",
       "    <tr>\n",
       "      <th>9</th>\n",
       "      <td>1035</td>\n",
       "      <td>0</td>\n",
       "    </tr>\n",
       "    <tr>\n",
       "      <th>10</th>\n",
       "      <td>650</td>\n",
       "      <td>0</td>\n",
       "    </tr>\n",
       "    <tr>\n",
       "      <th>11</th>\n",
       "      <td>0</td>\n",
       "      <td>374</td>\n",
       "    </tr>\n",
       "    <tr>\n",
       "      <th>12</th>\n",
       "      <td>0</td>\n",
       "      <td>192</td>\n",
       "    </tr>\n",
       "    <tr>\n",
       "      <th>13</th>\n",
       "      <td>0</td>\n",
       "      <td>195</td>\n",
       "    </tr>\n",
       "    <tr>\n",
       "      <th>14</th>\n",
       "      <td>0</td>\n",
       "      <td>56</td>\n",
       "    </tr>\n",
       "    <tr>\n",
       "      <th>15</th>\n",
       "      <td>0</td>\n",
       "      <td>45</td>\n",
       "    </tr>\n",
       "    <tr>\n",
       "      <th>16</th>\n",
       "      <td>0</td>\n",
       "      <td>48</td>\n",
       "    </tr>\n",
       "    <tr>\n",
       "      <th>17</th>\n",
       "      <td>0</td>\n",
       "      <td>17</td>\n",
       "    </tr>\n",
       "    <tr>\n",
       "      <th>19</th>\n",
       "      <td>0</td>\n",
       "      <td>19</td>\n",
       "    </tr>\n",
       "    <tr>\n",
       "      <th>20</th>\n",
       "      <td>0</td>\n",
       "      <td>20</td>\n",
       "    </tr>\n",
       "    <tr>\n",
       "      <th>999</th>\n",
       "      <td>0</td>\n",
       "      <td>21</td>\n",
       "    </tr>\n",
       "  </tbody>\n",
       "</table>\n",
       "</div>"
      ],
      "text/plain": [
       "trpcnt_recoded  A little  A lot\n",
       "trpcnt                         \n",
       "1                 587983      0\n",
       "2                 369546      0\n",
       "3                 116529      0\n",
       "4                  50568      0\n",
       "5                  21915      0\n",
       "6                   9216      0\n",
       "7                   4452      0\n",
       "8                   2096      0\n",
       "9                   1035      0\n",
       "10                   650      0\n",
       "11                     0    374\n",
       "12                     0    192\n",
       "13                     0    195\n",
       "14                     0     56\n",
       "15                     0     45\n",
       "16                     0     48\n",
       "17                     0     17\n",
       "19                     0     19\n",
       "20                     0     20\n",
       "999                    0     21"
      ]
     },
     "execution_count": 38,
     "metadata": {},
     "output_type": "execute_result"
    }
   ],
   "source": [
    "pd.crosstab(trip_data['trpcnt'], trip_data['trpcnt_recoded'])"
   ]
  },
  {
   "cell_type": "code",
   "execution_count": 39,
   "metadata": {
    "collapsed": false
   },
   "outputs": [
    {
     "data": {
      "text/html": [
       "<div>\n",
       "<table border=\"1\" class=\"dataframe\">\n",
       "  <thead>\n",
       "    <tr style=\"text-align: right;\">\n",
       "      <th></th>\n",
       "      <th>stops</th>\n",
       "      <th>stops100</th>\n",
       "      <th>stops3</th>\n",
       "    </tr>\n",
       "  </thead>\n",
       "  <tbody>\n",
       "    <tr>\n",
       "      <th>0</th>\n",
       "      <td>0</td>\n",
       "      <td>0</td>\n",
       "      <td>0</td>\n",
       "    </tr>\n",
       "    <tr>\n",
       "      <th>1</th>\n",
       "      <td>0</td>\n",
       "      <td>0</td>\n",
       "      <td>0</td>\n",
       "    </tr>\n",
       "    <tr>\n",
       "      <th>2</th>\n",
       "      <td>0</td>\n",
       "      <td>0</td>\n",
       "      <td>0</td>\n",
       "    </tr>\n",
       "    <tr>\n",
       "      <th>3</th>\n",
       "      <td>0</td>\n",
       "      <td>0</td>\n",
       "      <td>0</td>\n",
       "    </tr>\n",
       "    <tr>\n",
       "      <th>4</th>\n",
       "      <td>0</td>\n",
       "      <td>0</td>\n",
       "      <td>0</td>\n",
       "    </tr>\n",
       "    <tr>\n",
       "      <th>5</th>\n",
       "      <td>1</td>\n",
       "      <td>100</td>\n",
       "      <td>1</td>\n",
       "    </tr>\n",
       "    <tr>\n",
       "      <th>6</th>\n",
       "      <td>1</td>\n",
       "      <td>100</td>\n",
       "      <td>1</td>\n",
       "    </tr>\n",
       "    <tr>\n",
       "      <th>7</th>\n",
       "      <td>1</td>\n",
       "      <td>100</td>\n",
       "      <td>1</td>\n",
       "    </tr>\n",
       "    <tr>\n",
       "      <th>8</th>\n",
       "      <td>1</td>\n",
       "      <td>100</td>\n",
       "      <td>1</td>\n",
       "    </tr>\n",
       "    <tr>\n",
       "      <th>9</th>\n",
       "      <td>1</td>\n",
       "      <td>100</td>\n",
       "      <td>1</td>\n",
       "    </tr>\n",
       "    <tr>\n",
       "      <th>10</th>\n",
       "      <td>1</td>\n",
       "      <td>100</td>\n",
       "      <td>1</td>\n",
       "    </tr>\n",
       "    <tr>\n",
       "      <th>11</th>\n",
       "      <td>0</td>\n",
       "      <td>0</td>\n",
       "      <td>0</td>\n",
       "    </tr>\n",
       "    <tr>\n",
       "      <th>12</th>\n",
       "      <td>0</td>\n",
       "      <td>0</td>\n",
       "      <td>0</td>\n",
       "    </tr>\n",
       "    <tr>\n",
       "      <th>13</th>\n",
       "      <td>1</td>\n",
       "      <td>100</td>\n",
       "      <td>1</td>\n",
       "    </tr>\n",
       "    <tr>\n",
       "      <th>14</th>\n",
       "      <td>1</td>\n",
       "      <td>100</td>\n",
       "      <td>1</td>\n",
       "    </tr>\n",
       "    <tr>\n",
       "      <th>15</th>\n",
       "      <td>0</td>\n",
       "      <td>0</td>\n",
       "      <td>0</td>\n",
       "    </tr>\n",
       "    <tr>\n",
       "      <th>16</th>\n",
       "      <td>0</td>\n",
       "      <td>0</td>\n",
       "      <td>0</td>\n",
       "    </tr>\n",
       "    <tr>\n",
       "      <th>17</th>\n",
       "      <td>0</td>\n",
       "      <td>0</td>\n",
       "      <td>0</td>\n",
       "    </tr>\n",
       "    <tr>\n",
       "      <th>18</th>\n",
       "      <td>0</td>\n",
       "      <td>0</td>\n",
       "      <td>0</td>\n",
       "    </tr>\n",
       "    <tr>\n",
       "      <th>19</th>\n",
       "      <td>2</td>\n",
       "      <td>200</td>\n",
       "      <td>4</td>\n",
       "    </tr>\n",
       "  </tbody>\n",
       "</table>\n",
       "</div>"
      ],
      "text/plain": [
       "    stops  stops100  stops3\n",
       "0       0         0       0\n",
       "1       0         0       0\n",
       "2       0         0       0\n",
       "3       0         0       0\n",
       "4       0         0       0\n",
       "5       1       100       1\n",
       "6       1       100       1\n",
       "7       1       100       1\n",
       "8       1       100       1\n",
       "9       1       100       1\n",
       "10      1       100       1\n",
       "11      0         0       0\n",
       "12      0         0       0\n",
       "13      1       100       1\n",
       "14      1       100       1\n",
       "15      0         0       0\n",
       "16      0         0       0\n",
       "17      0         0       0\n",
       "18      0         0       0\n",
       "19      2       200       4"
      ]
     },
     "execution_count": 39,
     "metadata": {},
     "output_type": "execute_result"
    }
   ],
   "source": [
    "trip_data['stops100'] = trip_data.stops * 100\n",
    "trip_data['stops3'] = trip_data.stops ** 2\n",
    "\n",
    "\n",
    "trip_data[['stops', 'stops100', 'stops3']].head(20)"
   ]
  },
  {
   "cell_type": "markdown",
   "metadata": {},
   "source": [
    "## d. Insert missing values"
   ]
  },
  {
   "cell_type": "code",
   "execution_count": 40,
   "metadata": {
    "collapsed": false
   },
   "outputs": [],
   "source": [
    "trip_data.loc[trip_data.stops==0,'stops'] = np.nan"
   ]
  },
  {
   "cell_type": "code",
   "execution_count": 41,
   "metadata": {
    "collapsed": false
   },
   "outputs": [
    {
     "data": {
      "text/plain": [
       "0   NaN\n",
       "1   NaN\n",
       "2   NaN\n",
       "3   NaN\n",
       "4   NaN\n",
       "Name: stops, dtype: float64"
      ]
     },
     "execution_count": 41,
     "metadata": {},
     "output_type": "execute_result"
    }
   ],
   "source": [
    "trip_data.stops.head()"
   ]
  },
  {
   "cell_type": "markdown",
   "metadata": {},
   "source": [
    "### !!!! Caution: Missing values get weird\n",
    "#### Nulls are not equal"
   ]
  },
  {
   "cell_type": "code",
   "execution_count": 42,
   "metadata": {
    "collapsed": false
   },
   "outputs": [
    {
     "data": {
      "text/plain": [
       "nan"
      ]
     },
     "execution_count": 42,
     "metadata": {},
     "output_type": "execute_result"
    }
   ],
   "source": [
    "trip_data.loc[0].stops"
   ]
  },
  {
   "cell_type": "code",
   "execution_count": 43,
   "metadata": {
    "collapsed": false
   },
   "outputs": [
    {
     "data": {
      "text/plain": [
       "nan"
      ]
     },
     "execution_count": 43,
     "metadata": {},
     "output_type": "execute_result"
    }
   ],
   "source": [
    "trip_data.loc[1].stops"
   ]
  },
  {
   "cell_type": "code",
   "execution_count": 44,
   "metadata": {
    "collapsed": false
   },
   "outputs": [
    {
     "data": {
      "text/plain": [
       "False"
      ]
     },
     "execution_count": 44,
     "metadata": {},
     "output_type": "execute_result"
    }
   ],
   "source": [
    "trip_data.loc[0].stops == trip_data.loc[1].stops"
   ]
  },
  {
   "cell_type": "code",
   "execution_count": 45,
   "metadata": {
    "collapsed": false
   },
   "outputs": [
    {
     "data": {
      "text/plain": [
       "True"
      ]
     },
     "execution_count": 45,
     "metadata": {},
     "output_type": "execute_result"
    }
   ],
   "source": [
    "pd.isnull(trip_data.loc[1].stops)"
   ]
  },
  {
   "cell_type": "markdown",
   "metadata": {},
   "source": [
    "#### For this reason, we need special option to select them"
   ]
  },
  {
   "cell_type": "code",
   "execution_count": 46,
   "metadata": {
    "collapsed": false
   },
   "outputs": [
    {
     "data": {
      "text/html": [
       "<div>\n",
       "<table border=\"1\" class=\"dataframe\">\n",
       "  <thead>\n",
       "    <tr style=\"text-align: right;\">\n",
       "      <th></th>\n",
       "      <th>house_id</th>\n",
       "      <th>person_id</th>\n",
       "      <th>tdtrpnum</th>\n",
       "      <th>wttrdfin</th>\n",
       "      <th>tour</th>\n",
       "      <th>tour_seg</th>\n",
       "      <th>tourtype</th>\n",
       "      <th>trpcnt</th>\n",
       "      <th>stops</th>\n",
       "      <th>tour_flg</th>\n",
       "      <th>trpcnt_recoded</th>\n",
       "      <th>stops100</th>\n",
       "      <th>stops3</th>\n",
       "    </tr>\n",
       "  </thead>\n",
       "  <tbody>\n",
       "  </tbody>\n",
       "</table>\n",
       "</div>"
      ],
      "text/plain": [
       "Empty DataFrame\n",
       "Columns: [house_id, person_id, tdtrpnum, wttrdfin, tour, tour_seg, tourtype, trpcnt, stops, tour_flg, trpcnt_recoded, stops100, stops3]\n",
       "Index: []"
      ]
     },
     "execution_count": 46,
     "metadata": {},
     "output_type": "execute_result"
    }
   ],
   "source": [
    "trip_data[trip_data.stops==np.nan]"
   ]
  },
  {
   "cell_type": "code",
   "execution_count": 47,
   "metadata": {
    "collapsed": false
   },
   "outputs": [
    {
     "data": {
      "text/html": [
       "<div>\n",
       "<table border=\"1\" class=\"dataframe\">\n",
       "  <thead>\n",
       "    <tr style=\"text-align: right;\">\n",
       "      <th></th>\n",
       "      <th>house_id</th>\n",
       "      <th>person_id</th>\n",
       "      <th>tdtrpnum</th>\n",
       "      <th>wttrdfin</th>\n",
       "      <th>tour</th>\n",
       "      <th>tour_seg</th>\n",
       "      <th>tourtype</th>\n",
       "      <th>trpcnt</th>\n",
       "      <th>stops</th>\n",
       "      <th>tour_flg</th>\n",
       "      <th>trpcnt_recoded</th>\n",
       "      <th>stops100</th>\n",
       "      <th>stops3</th>\n",
       "    </tr>\n",
       "  </thead>\n",
       "  <tbody>\n",
       "    <tr>\n",
       "      <th>0</th>\n",
       "      <td>20000017</td>\n",
       "      <td>1</td>\n",
       "      <td>1</td>\n",
       "      <td>68170.670425</td>\n",
       "      <td>1</td>\n",
       "      <td>1</td>\n",
       "      <td>HO</td>\n",
       "      <td>1</td>\n",
       "      <td>NaN</td>\n",
       "      <td>0</td>\n",
       "      <td>A little</td>\n",
       "      <td>0</td>\n",
       "      <td>0</td>\n",
       "    </tr>\n",
       "    <tr>\n",
       "      <th>1</th>\n",
       "      <td>20000017</td>\n",
       "      <td>1</td>\n",
       "      <td>2</td>\n",
       "      <td>68170.670425</td>\n",
       "      <td>2</td>\n",
       "      <td>1</td>\n",
       "      <td>OO</td>\n",
       "      <td>1</td>\n",
       "      <td>NaN</td>\n",
       "      <td>0</td>\n",
       "      <td>A little</td>\n",
       "      <td>0</td>\n",
       "      <td>0</td>\n",
       "    </tr>\n",
       "    <tr>\n",
       "      <th>2</th>\n",
       "      <td>20000017</td>\n",
       "      <td>1</td>\n",
       "      <td>3</td>\n",
       "      <td>68170.670425</td>\n",
       "      <td>3</td>\n",
       "      <td>1</td>\n",
       "      <td>OH</td>\n",
       "      <td>1</td>\n",
       "      <td>NaN</td>\n",
       "      <td>0</td>\n",
       "      <td>A little</td>\n",
       "      <td>0</td>\n",
       "      <td>0</td>\n",
       "    </tr>\n",
       "    <tr>\n",
       "      <th>3</th>\n",
       "      <td>20000017</td>\n",
       "      <td>1</td>\n",
       "      <td>4</td>\n",
       "      <td>68170.670425</td>\n",
       "      <td>4</td>\n",
       "      <td>1</td>\n",
       "      <td>HO</td>\n",
       "      <td>1</td>\n",
       "      <td>NaN</td>\n",
       "      <td>0</td>\n",
       "      <td>A little</td>\n",
       "      <td>0</td>\n",
       "      <td>0</td>\n",
       "    </tr>\n",
       "    <tr>\n",
       "      <th>4</th>\n",
       "      <td>20000017</td>\n",
       "      <td>1</td>\n",
       "      <td>5</td>\n",
       "      <td>68170.670425</td>\n",
       "      <td>5</td>\n",
       "      <td>1</td>\n",
       "      <td>OH</td>\n",
       "      <td>1</td>\n",
       "      <td>NaN</td>\n",
       "      <td>0</td>\n",
       "      <td>A little</td>\n",
       "      <td>0</td>\n",
       "      <td>0</td>\n",
       "    </tr>\n",
       "  </tbody>\n",
       "</table>\n",
       "</div>"
      ],
      "text/plain": [
       "   house_id  person_id  tdtrpnum      wttrdfin  tour  tour_seg tourtype  \\\n",
       "0  20000017          1         1  68170.670425     1         1       HO   \n",
       "1  20000017          1         2  68170.670425     2         1       OO   \n",
       "2  20000017          1         3  68170.670425     3         1       OH   \n",
       "3  20000017          1         4  68170.670425     4         1       HO   \n",
       "4  20000017          1         5  68170.670425     5         1       OH   \n",
       "\n",
       "   trpcnt  stops  tour_flg trpcnt_recoded  stops100  stops3  \n",
       "0       1    NaN         0       A little         0       0  \n",
       "1       1    NaN         0       A little         0       0  \n",
       "2       1    NaN         0       A little         0       0  \n",
       "3       1    NaN         0       A little         0       0  \n",
       "4       1    NaN         0       A little         0       0  "
      ]
     },
     "execution_count": 47,
     "metadata": {},
     "output_type": "execute_result"
    }
   ],
   "source": [
    "trip_data[trip_data.stops.isnull()].head()"
   ]
  },
  {
   "cell_type": "markdown",
   "metadata": {},
   "source": [
    "#### They don't appear to be ordered"
   ]
  },
  {
   "cell_type": "code",
   "execution_count": 48,
   "metadata": {
    "collapsed": false,
    "scrolled": true
   },
   "outputs": [
    {
     "data": {
      "text/plain": [
       "False"
      ]
     },
     "execution_count": 48,
     "metadata": {},
     "output_type": "execute_result"
    }
   ],
   "source": [
    "trip_data.loc[0].stops>0"
   ]
  },
  {
   "cell_type": "code",
   "execution_count": 49,
   "metadata": {
    "collapsed": false
   },
   "outputs": [
    {
     "data": {
      "text/plain": [
       "False"
      ]
     },
     "execution_count": 49,
     "metadata": {},
     "output_type": "execute_result"
    }
   ],
   "source": [
    "trip_data.loc[0].stops<0"
   ]
  },
  {
   "cell_type": "code",
   "execution_count": 50,
   "metadata": {
    "collapsed": false
   },
   "outputs": [
    {
     "data": {
      "text/plain": [
       "False"
      ]
     },
     "execution_count": 50,
     "metadata": {},
     "output_type": "execute_result"
    }
   ],
   "source": [
    "trip_data.loc[0].stops==0"
   ]
  },
  {
   "cell_type": "markdown",
   "metadata": {},
   "source": [
    "# 5. Reshaping the data"
   ]
  },
  {
   "cell_type": "markdown",
   "metadata": {},
   "source": [
    "## a. Calculate group characteristics"
   ]
  },
  {
   "cell_type": "code",
   "execution_count": 51,
   "metadata": {
    "collapsed": false
   },
   "outputs": [
    {
     "data": {
      "text/html": [
       "<div>\n",
       "<table border=\"1\" class=\"dataframe\">\n",
       "  <thead>\n",
       "    <tr style=\"text-align: right;\">\n",
       "      <th></th>\n",
       "      <th></th>\n",
       "      <th>tdtrpnum</th>\n",
       "      <th>wttrdfin</th>\n",
       "      <th>tour</th>\n",
       "      <th>tour_seg</th>\n",
       "      <th>trpcnt</th>\n",
       "      <th>stops</th>\n",
       "      <th>tour_flg</th>\n",
       "      <th>stops100</th>\n",
       "      <th>stops3</th>\n",
       "    </tr>\n",
       "    <tr>\n",
       "      <th>house_id</th>\n",
       "      <th>person_id</th>\n",
       "      <th></th>\n",
       "      <th></th>\n",
       "      <th></th>\n",
       "      <th></th>\n",
       "      <th></th>\n",
       "      <th></th>\n",
       "      <th></th>\n",
       "      <th></th>\n",
       "      <th></th>\n",
       "    </tr>\n",
       "  </thead>\n",
       "  <tbody>\n",
       "    <tr>\n",
       "      <th rowspan=\"2\" valign=\"top\">20000017</th>\n",
       "      <th>1</th>\n",
       "      <td>3.0</td>\n",
       "      <td>68170.670425</td>\n",
       "      <td>3.000</td>\n",
       "      <td>1.000</td>\n",
       "      <td>1.00</td>\n",
       "      <td>NaN</td>\n",
       "      <td>0.00</td>\n",
       "      <td>0.0</td>\n",
       "      <td>0.00</td>\n",
       "    </tr>\n",
       "    <tr>\n",
       "      <th>2</th>\n",
       "      <td>4.5</td>\n",
       "      <td>69589.496462</td>\n",
       "      <td>2.625</td>\n",
       "      <td>1.375</td>\n",
       "      <td>1.75</td>\n",
       "      <td>1.0</td>\n",
       "      <td>0.75</td>\n",
       "      <td>75.0</td>\n",
       "      <td>0.75</td>\n",
       "    </tr>\n",
       "    <tr>\n",
       "      <th>20000231</th>\n",
       "      <th>1</th>\n",
       "      <td>3.0</td>\n",
       "      <td>522885.472560</td>\n",
       "      <td>2.200</td>\n",
       "      <td>1.200</td>\n",
       "      <td>1.40</td>\n",
       "      <td>1.0</td>\n",
       "      <td>0.40</td>\n",
       "      <td>40.0</td>\n",
       "      <td>0.40</td>\n",
       "    </tr>\n",
       "    <tr>\n",
       "      <th rowspan=\"2\" valign=\"top\">20000521</th>\n",
       "      <th>1</th>\n",
       "      <td>2.5</td>\n",
       "      <td>117718.426110</td>\n",
       "      <td>1.750</td>\n",
       "      <td>1.750</td>\n",
       "      <td>2.50</td>\n",
       "      <td>2.0</td>\n",
       "      <td>0.75</td>\n",
       "      <td>150.0</td>\n",
       "      <td>3.00</td>\n",
       "    </tr>\n",
       "    <tr>\n",
       "      <th>2</th>\n",
       "      <td>1.5</td>\n",
       "      <td>132561.492020</td>\n",
       "      <td>1.500</td>\n",
       "      <td>1.000</td>\n",
       "      <td>1.00</td>\n",
       "      <td>NaN</td>\n",
       "      <td>0.00</td>\n",
       "      <td>0.0</td>\n",
       "      <td>0.00</td>\n",
       "    </tr>\n",
       "  </tbody>\n",
       "</table>\n",
       "</div>"
      ],
      "text/plain": [
       "                    tdtrpnum       wttrdfin   tour  tour_seg  trpcnt  stops  \\\n",
       "house_id person_id                                                            \n",
       "20000017 1               3.0   68170.670425  3.000     1.000    1.00    NaN   \n",
       "         2               4.5   69589.496462  2.625     1.375    1.75    1.0   \n",
       "20000231 1               3.0  522885.472560  2.200     1.200    1.40    1.0   \n",
       "20000521 1               2.5  117718.426110  1.750     1.750    2.50    2.0   \n",
       "         2               1.5  132561.492020  1.500     1.000    1.00    NaN   \n",
       "\n",
       "                    tour_flg  stops100  stops3  \n",
       "house_id person_id                              \n",
       "20000017 1              0.00       0.0    0.00  \n",
       "         2              0.75      75.0    0.75  \n",
       "20000231 1              0.40      40.0    0.40  \n",
       "20000521 1              0.75     150.0    3.00  \n",
       "         2              0.00       0.0    0.00  "
      ]
     },
     "execution_count": 51,
     "metadata": {},
     "output_type": "execute_result"
    }
   ],
   "source": [
    "trip_data.groupby(['house_id', 'person_id']).mean().head()"
   ]
  },
  {
   "cell_type": "markdown",
   "metadata": {},
   "source": [
    "## b. Pivot"
   ]
  },
  {
   "cell_type": "code",
   "execution_count": 52,
   "metadata": {
    "collapsed": false
   },
   "outputs": [
    {
     "data": {
      "text/plain": [
       "array([  1,   2,   3,   4,   5,   7,   6,   8,   9,  13,  10,  15,  11,\n",
       "        12,  19,  14,  20,  16, 999,  17], dtype=int64)"
      ]
     },
     "execution_count": 52,
     "metadata": {},
     "output_type": "execute_result"
    }
   ],
   "source": [
    "trip_data.trpcnt.unique()"
   ]
  },
  {
   "cell_type": "code",
   "execution_count": 53,
   "metadata": {
    "collapsed": false,
    "scrolled": true
   },
   "outputs": [
    {
     "data": {
      "text/html": [
       "<div>\n",
       "<table border=\"1\" class=\"dataframe\">\n",
       "  <thead>\n",
       "    <tr style=\"text-align: right;\">\n",
       "      <th></th>\n",
       "      <th></th>\n",
       "      <th>tdtrpnum</th>\n",
       "      <th>wttrdfin</th>\n",
       "      <th>tour</th>\n",
       "      <th>tour_seg</th>\n",
       "      <th>trpcnt</th>\n",
       "      <th>stops</th>\n",
       "      <th>tour_flg</th>\n",
       "      <th>stops100</th>\n",
       "      <th>stops3</th>\n",
       "    </tr>\n",
       "    <tr>\n",
       "      <th>house_id</th>\n",
       "      <th>person_id</th>\n",
       "      <th></th>\n",
       "      <th></th>\n",
       "      <th></th>\n",
       "      <th></th>\n",
       "      <th></th>\n",
       "      <th></th>\n",
       "      <th></th>\n",
       "      <th></th>\n",
       "      <th></th>\n",
       "    </tr>\n",
       "  </thead>\n",
       "  <tbody>\n",
       "    <tr>\n",
       "      <th rowspan=\"2\" valign=\"top\">20000017</th>\n",
       "      <th>1</th>\n",
       "      <td>3.000000</td>\n",
       "      <td>6.817067e+04</td>\n",
       "      <td>3.000000</td>\n",
       "      <td>1.000000</td>\n",
       "      <td>1.000000</td>\n",
       "      <td>NaN</td>\n",
       "      <td>0.000000</td>\n",
       "      <td>0.000000</td>\n",
       "      <td>0.000000</td>\n",
       "    </tr>\n",
       "    <tr>\n",
       "      <th>2</th>\n",
       "      <td>4.500000</td>\n",
       "      <td>6.958950e+04</td>\n",
       "      <td>2.625000</td>\n",
       "      <td>1.375000</td>\n",
       "      <td>1.750000</td>\n",
       "      <td>1.000000</td>\n",
       "      <td>0.750000</td>\n",
       "      <td>75.000000</td>\n",
       "      <td>0.750000</td>\n",
       "    </tr>\n",
       "    <tr>\n",
       "      <th>20000231</th>\n",
       "      <th>1</th>\n",
       "      <td>3.000000</td>\n",
       "      <td>5.228855e+05</td>\n",
       "      <td>2.200000</td>\n",
       "      <td>1.200000</td>\n",
       "      <td>1.400000</td>\n",
       "      <td>1.000000</td>\n",
       "      <td>0.400000</td>\n",
       "      <td>40.000000</td>\n",
       "      <td>0.400000</td>\n",
       "    </tr>\n",
       "    <tr>\n",
       "      <th rowspan=\"2\" valign=\"top\">20000521</th>\n",
       "      <th>1</th>\n",
       "      <td>2.500000</td>\n",
       "      <td>1.177184e+05</td>\n",
       "      <td>1.750000</td>\n",
       "      <td>1.750000</td>\n",
       "      <td>2.500000</td>\n",
       "      <td>2.000000</td>\n",
       "      <td>0.750000</td>\n",
       "      <td>150.000000</td>\n",
       "      <td>3.000000</td>\n",
       "    </tr>\n",
       "    <tr>\n",
       "      <th>2</th>\n",
       "      <td>1.500000</td>\n",
       "      <td>1.325615e+05</td>\n",
       "      <td>1.500000</td>\n",
       "      <td>1.000000</td>\n",
       "      <td>1.000000</td>\n",
       "      <td>NaN</td>\n",
       "      <td>0.000000</td>\n",
       "      <td>0.000000</td>\n",
       "      <td>0.000000</td>\n",
       "    </tr>\n",
       "    <tr>\n",
       "      <th>20001283</th>\n",
       "      <th>1</th>\n",
       "      <td>2.500000</td>\n",
       "      <td>6.461012e+05</td>\n",
       "      <td>1.750000</td>\n",
       "      <td>1.750000</td>\n",
       "      <td>2.500000</td>\n",
       "      <td>2.000000</td>\n",
       "      <td>0.750000</td>\n",
       "      <td>150.000000</td>\n",
       "      <td>3.000000</td>\n",
       "    </tr>\n",
       "    <tr>\n",
       "      <th rowspan=\"2\" valign=\"top\">20001603</th>\n",
       "      <th>1</th>\n",
       "      <td>3.500000</td>\n",
       "      <td>3.753174e+04</td>\n",
       "      <td>3.166667</td>\n",
       "      <td>1.166667</td>\n",
       "      <td>1.333333</td>\n",
       "      <td>1.000000</td>\n",
       "      <td>0.333333</td>\n",
       "      <td>33.333333</td>\n",
       "      <td>0.333333</td>\n",
       "    </tr>\n",
       "    <tr>\n",
       "      <th>2</th>\n",
       "      <td>5.500000</td>\n",
       "      <td>4.086633e+04</td>\n",
       "      <td>4.300000</td>\n",
       "      <td>1.200000</td>\n",
       "      <td>1.400000</td>\n",
       "      <td>1.000000</td>\n",
       "      <td>0.000000</td>\n",
       "      <td>40.000000</td>\n",
       "      <td>0.400000</td>\n",
       "    </tr>\n",
       "    <tr>\n",
       "      <th rowspan=\"2\" valign=\"top\">20001649</th>\n",
       "      <th>1</th>\n",
       "      <td>4.500000</td>\n",
       "      <td>2.905128e+05</td>\n",
       "      <td>2.750000</td>\n",
       "      <td>1.500000</td>\n",
       "      <td>2.000000</td>\n",
       "      <td>1.600000</td>\n",
       "      <td>0.375000</td>\n",
       "      <td>100.000000</td>\n",
       "      <td>1.750000</td>\n",
       "    </tr>\n",
       "    <tr>\n",
       "      <th>2</th>\n",
       "      <td>3.500000</td>\n",
       "      <td>3.132873e+05</td>\n",
       "      <td>2.500000</td>\n",
       "      <td>1.333333</td>\n",
       "      <td>1.666667</td>\n",
       "      <td>1.000000</td>\n",
       "      <td>0.000000</td>\n",
       "      <td>66.666667</td>\n",
       "      <td>0.666667</td>\n",
       "    </tr>\n",
       "    <tr>\n",
       "      <th rowspan=\"2\" valign=\"top\">20002413</th>\n",
       "      <th>1</th>\n",
       "      <td>1.500000</td>\n",
       "      <td>3.535598e+04</td>\n",
       "      <td>1.500000</td>\n",
       "      <td>1.000000</td>\n",
       "      <td>1.000000</td>\n",
       "      <td>NaN</td>\n",
       "      <td>0.000000</td>\n",
       "      <td>0.000000</td>\n",
       "      <td>0.000000</td>\n",
       "    </tr>\n",
       "    <tr>\n",
       "      <th>2</th>\n",
       "      <td>1.500000</td>\n",
       "      <td>1.127163e+05</td>\n",
       "      <td>1.500000</td>\n",
       "      <td>1.000000</td>\n",
       "      <td>1.000000</td>\n",
       "      <td>NaN</td>\n",
       "      <td>0.000000</td>\n",
       "      <td>0.000000</td>\n",
       "      <td>0.000000</td>\n",
       "    </tr>\n",
       "    <tr>\n",
       "      <th>20002440</th>\n",
       "      <th>2</th>\n",
       "      <td>3.500000</td>\n",
       "      <td>1.048044e+05</td>\n",
       "      <td>2.000000</td>\n",
       "      <td>1.500000</td>\n",
       "      <td>2.000000</td>\n",
       "      <td>1.000000</td>\n",
       "      <td>0.000000</td>\n",
       "      <td>100.000000</td>\n",
       "      <td>1.000000</td>\n",
       "    </tr>\n",
       "    <tr>\n",
       "      <th rowspan=\"3\" valign=\"top\">20002570</th>\n",
       "      <th>1</th>\n",
       "      <td>5.666667</td>\n",
       "      <td>6.533636e+04</td>\n",
       "      <td>2.555556</td>\n",
       "      <td>1.888889</td>\n",
       "      <td>2.777778</td>\n",
       "      <td>2.000000</td>\n",
       "      <td>0.444444</td>\n",
       "      <td>177.777778</td>\n",
       "      <td>4.444444</td>\n",
       "    </tr>\n",
       "    <tr>\n",
       "      <th>3</th>\n",
       "      <td>2.500000</td>\n",
       "      <td>9.883542e+04</td>\n",
       "      <td>2.500000</td>\n",
       "      <td>1.000000</td>\n",
       "      <td>1.000000</td>\n",
       "      <td>NaN</td>\n",
       "      <td>0.000000</td>\n",
       "      <td>0.000000</td>\n",
       "      <td>0.000000</td>\n",
       "    </tr>\n",
       "    <tr>\n",
       "      <th>4</th>\n",
       "      <td>6.375000</td>\n",
       "      <td>1.647840e+05</td>\n",
       "      <td>3.000000</td>\n",
       "      <td>1.500000</td>\n",
       "      <td>2.000000</td>\n",
       "      <td>1.600000</td>\n",
       "      <td>0.625000</td>\n",
       "      <td>100.000000</td>\n",
       "      <td>1.750000</td>\n",
       "    </tr>\n",
       "    <tr>\n",
       "      <th>20002888</th>\n",
       "      <th>1</th>\n",
       "      <td>1.500000</td>\n",
       "      <td>2.813046e+04</td>\n",
       "      <td>1.500000</td>\n",
       "      <td>1.000000</td>\n",
       "      <td>1.000000</td>\n",
       "      <td>NaN</td>\n",
       "      <td>0.000000</td>\n",
       "      <td>0.000000</td>\n",
       "      <td>0.000000</td>\n",
       "    </tr>\n",
       "    <tr>\n",
       "      <th>20003401</th>\n",
       "      <th>1</th>\n",
       "      <td>1.500000</td>\n",
       "      <td>4.684545e+06</td>\n",
       "      <td>1.000000</td>\n",
       "      <td>1.500000</td>\n",
       "      <td>2.000000</td>\n",
       "      <td>1.000000</td>\n",
       "      <td>0.000000</td>\n",
       "      <td>100.000000</td>\n",
       "      <td>1.000000</td>\n",
       "    </tr>\n",
       "    <tr>\n",
       "      <th rowspan=\"3\" valign=\"top\">20004480</th>\n",
       "      <th>1</th>\n",
       "      <td>5.000000</td>\n",
       "      <td>9.603121e+04</td>\n",
       "      <td>1.666667</td>\n",
       "      <td>2.333333</td>\n",
       "      <td>3.666667</td>\n",
       "      <td>2.666667</td>\n",
       "      <td>0.555556</td>\n",
       "      <td>266.666667</td>\n",
       "      <td>9.333333</td>\n",
       "    </tr>\n",
       "    <tr>\n",
       "      <th>2</th>\n",
       "      <td>2.500000</td>\n",
       "      <td>1.256243e+05</td>\n",
       "      <td>2.500000</td>\n",
       "      <td>1.000000</td>\n",
       "      <td>1.000000</td>\n",
       "      <td>NaN</td>\n",
       "      <td>0.000000</td>\n",
       "      <td>0.000000</td>\n",
       "      <td>0.000000</td>\n",
       "    </tr>\n",
       "    <tr>\n",
       "      <th>3</th>\n",
       "      <td>5.000000</td>\n",
       "      <td>1.529624e+05</td>\n",
       "      <td>2.555556</td>\n",
       "      <td>1.666667</td>\n",
       "      <td>2.333333</td>\n",
       "      <td>1.333333</td>\n",
       "      <td>1.000000</td>\n",
       "      <td>133.333333</td>\n",
       "      <td>2.000000</td>\n",
       "    </tr>\n",
       "    <tr>\n",
       "      <th rowspan=\"3\" valign=\"top\">20004837</th>\n",
       "      <th>1</th>\n",
       "      <td>2.000000</td>\n",
       "      <td>5.039269e+05</td>\n",
       "      <td>1.333333</td>\n",
       "      <td>1.333333</td>\n",
       "      <td>1.666667</td>\n",
       "      <td>1.000000</td>\n",
       "      <td>0.666667</td>\n",
       "      <td>66.666667</td>\n",
       "      <td>0.666667</td>\n",
       "    </tr>\n",
       "    <tr>\n",
       "      <th>2</th>\n",
       "      <td>3.500000</td>\n",
       "      <td>7.335344e+05</td>\n",
       "      <td>2.833333</td>\n",
       "      <td>1.333333</td>\n",
       "      <td>1.666667</td>\n",
       "      <td>1.000000</td>\n",
       "      <td>0.000000</td>\n",
       "      <td>66.666667</td>\n",
       "      <td>0.666667</td>\n",
       "    </tr>\n",
       "    <tr>\n",
       "      <th>3</th>\n",
       "      <td>1.500000</td>\n",
       "      <td>5.742319e+05</td>\n",
       "      <td>1.500000</td>\n",
       "      <td>1.000000</td>\n",
       "      <td>1.000000</td>\n",
       "      <td>NaN</td>\n",
       "      <td>0.000000</td>\n",
       "      <td>0.000000</td>\n",
       "      <td>0.000000</td>\n",
       "    </tr>\n",
       "    <tr>\n",
       "      <th rowspan=\"2\" valign=\"top\">20005320</th>\n",
       "      <th>1</th>\n",
       "      <td>1.500000</td>\n",
       "      <td>6.708881e+04</td>\n",
       "      <td>1.500000</td>\n",
       "      <td>1.000000</td>\n",
       "      <td>1.000000</td>\n",
       "      <td>NaN</td>\n",
       "      <td>0.000000</td>\n",
       "      <td>0.000000</td>\n",
       "      <td>0.000000</td>\n",
       "    </tr>\n",
       "    <tr>\n",
       "      <th>2</th>\n",
       "      <td>3.000000</td>\n",
       "      <td>7.236153e+04</td>\n",
       "      <td>2.200000</td>\n",
       "      <td>1.200000</td>\n",
       "      <td>1.400000</td>\n",
       "      <td>1.000000</td>\n",
       "      <td>0.400000</td>\n",
       "      <td>40.000000</td>\n",
       "      <td>0.400000</td>\n",
       "    </tr>\n",
       "    <tr>\n",
       "      <th>20005599</th>\n",
       "      <th>1</th>\n",
       "      <td>1.500000</td>\n",
       "      <td>1.040048e+05</td>\n",
       "      <td>1.500000</td>\n",
       "      <td>1.000000</td>\n",
       "      <td>1.000000</td>\n",
       "      <td>NaN</td>\n",
       "      <td>0.000000</td>\n",
       "      <td>0.000000</td>\n",
       "      <td>0.000000</td>\n",
       "    </tr>\n",
       "    <tr>\n",
       "      <th>20005807</th>\n",
       "      <th>1</th>\n",
       "      <td>4.000000</td>\n",
       "      <td>5.535021e+04</td>\n",
       "      <td>1.857143</td>\n",
       "      <td>1.714286</td>\n",
       "      <td>2.428571</td>\n",
       "      <td>1.428571</td>\n",
       "      <td>1.000000</td>\n",
       "      <td>142.857143</td>\n",
       "      <td>2.285714</td>\n",
       "    </tr>\n",
       "    <tr>\n",
       "      <th>20006233</th>\n",
       "      <th>1</th>\n",
       "      <td>3.500000</td>\n",
       "      <td>9.643176e+05</td>\n",
       "      <td>1.166667</td>\n",
       "      <td>2.666667</td>\n",
       "      <td>4.333333</td>\n",
       "      <td>4.000000</td>\n",
       "      <td>0.833333</td>\n",
       "      <td>333.333333</td>\n",
       "      <td>13.333333</td>\n",
       "    </tr>\n",
       "    <tr>\n",
       "      <th>20006381</th>\n",
       "      <th>1</th>\n",
       "      <td>1.500000</td>\n",
       "      <td>2.955194e+04</td>\n",
       "      <td>1.500000</td>\n",
       "      <td>1.000000</td>\n",
       "      <td>1.000000</td>\n",
       "      <td>NaN</td>\n",
       "      <td>0.000000</td>\n",
       "      <td>0.000000</td>\n",
       "      <td>0.000000</td>\n",
       "    </tr>\n",
       "    <tr>\n",
       "      <th>...</th>\n",
       "      <th>...</th>\n",
       "      <td>...</td>\n",
       "      <td>...</td>\n",
       "      <td>...</td>\n",
       "      <td>...</td>\n",
       "      <td>...</td>\n",
       "      <td>...</td>\n",
       "      <td>...</td>\n",
       "      <td>...</td>\n",
       "      <td>...</td>\n",
       "    </tr>\n",
       "    <tr>\n",
       "      <th rowspan=\"2\" valign=\"top\">69995729</th>\n",
       "      <th>1</th>\n",
       "      <td>1.500000</td>\n",
       "      <td>2.415686e+05</td>\n",
       "      <td>1.000000</td>\n",
       "      <td>1.500000</td>\n",
       "      <td>2.000000</td>\n",
       "      <td>1.000000</td>\n",
       "      <td>0.000000</td>\n",
       "      <td>100.000000</td>\n",
       "      <td>1.000000</td>\n",
       "    </tr>\n",
       "    <tr>\n",
       "      <th>2</th>\n",
       "      <td>2.000000</td>\n",
       "      <td>2.807599e+05</td>\n",
       "      <td>1.000000</td>\n",
       "      <td>2.000000</td>\n",
       "      <td>3.000000</td>\n",
       "      <td>2.000000</td>\n",
       "      <td>1.000000</td>\n",
       "      <td>200.000000</td>\n",
       "      <td>4.000000</td>\n",
       "    </tr>\n",
       "    <tr>\n",
       "      <th>69995804</th>\n",
       "      <th>1</th>\n",
       "      <td>3.500000</td>\n",
       "      <td>3.636619e+05</td>\n",
       "      <td>3.333333</td>\n",
       "      <td>1.166667</td>\n",
       "      <td>1.333333</td>\n",
       "      <td>1.000000</td>\n",
       "      <td>0.333333</td>\n",
       "      <td>33.333333</td>\n",
       "      <td>0.333333</td>\n",
       "    </tr>\n",
       "    <tr>\n",
       "      <th>69996481</th>\n",
       "      <th>1</th>\n",
       "      <td>2.000000</td>\n",
       "      <td>5.261590e+05</td>\n",
       "      <td>1.666667</td>\n",
       "      <td>1.333333</td>\n",
       "      <td>1.666667</td>\n",
       "      <td>1.000000</td>\n",
       "      <td>0.666667</td>\n",
       "      <td>66.666667</td>\n",
       "      <td>0.666667</td>\n",
       "    </tr>\n",
       "    <tr>\n",
       "      <th rowspan=\"2\" valign=\"top\">69996584</th>\n",
       "      <th>1</th>\n",
       "      <td>5.500000</td>\n",
       "      <td>4.618733e+05</td>\n",
       "      <td>4.400000</td>\n",
       "      <td>1.400000</td>\n",
       "      <td>1.800000</td>\n",
       "      <td>1.600000</td>\n",
       "      <td>0.300000</td>\n",
       "      <td>80.000000</td>\n",
       "      <td>1.400000</td>\n",
       "    </tr>\n",
       "    <tr>\n",
       "      <th>2</th>\n",
       "      <td>2.000000</td>\n",
       "      <td>4.638907e+05</td>\n",
       "      <td>2.000000</td>\n",
       "      <td>1.000000</td>\n",
       "      <td>1.000000</td>\n",
       "      <td>NaN</td>\n",
       "      <td>0.000000</td>\n",
       "      <td>0.000000</td>\n",
       "      <td>0.000000</td>\n",
       "    </tr>\n",
       "    <tr>\n",
       "      <th rowspan=\"2\" valign=\"top\">69996632</th>\n",
       "      <th>1</th>\n",
       "      <td>4.500000</td>\n",
       "      <td>4.020575e+05</td>\n",
       "      <td>1.750000</td>\n",
       "      <td>2.250000</td>\n",
       "      <td>3.500000</td>\n",
       "      <td>4.000000</td>\n",
       "      <td>0.625000</td>\n",
       "      <td>250.000000</td>\n",
       "      <td>10.000000</td>\n",
       "    </tr>\n",
       "    <tr>\n",
       "      <th>2</th>\n",
       "      <td>1.500000</td>\n",
       "      <td>5.059800e+05</td>\n",
       "      <td>1.500000</td>\n",
       "      <td>1.000000</td>\n",
       "      <td>1.000000</td>\n",
       "      <td>NaN</td>\n",
       "      <td>0.000000</td>\n",
       "      <td>0.000000</td>\n",
       "      <td>0.000000</td>\n",
       "    </tr>\n",
       "    <tr>\n",
       "      <th rowspan=\"2\" valign=\"top\">69996847</th>\n",
       "      <th>1</th>\n",
       "      <td>2.500000</td>\n",
       "      <td>5.231059e+04</td>\n",
       "      <td>1.750000</td>\n",
       "      <td>1.250000</td>\n",
       "      <td>1.500000</td>\n",
       "      <td>1.000000</td>\n",
       "      <td>0.000000</td>\n",
       "      <td>50.000000</td>\n",
       "      <td>0.500000</td>\n",
       "    </tr>\n",
       "    <tr>\n",
       "      <th>2</th>\n",
       "      <td>1.500000</td>\n",
       "      <td>5.667649e+04</td>\n",
       "      <td>1.500000</td>\n",
       "      <td>1.000000</td>\n",
       "      <td>1.000000</td>\n",
       "      <td>NaN</td>\n",
       "      <td>0.000000</td>\n",
       "      <td>0.000000</td>\n",
       "      <td>0.000000</td>\n",
       "    </tr>\n",
       "    <tr>\n",
       "      <th rowspan=\"2\" valign=\"top\">69996856</th>\n",
       "      <th>1</th>\n",
       "      <td>1.500000</td>\n",
       "      <td>8.845223e+03</td>\n",
       "      <td>1.500000</td>\n",
       "      <td>1.000000</td>\n",
       "      <td>1.000000</td>\n",
       "      <td>NaN</td>\n",
       "      <td>0.000000</td>\n",
       "      <td>0.000000</td>\n",
       "      <td>0.000000</td>\n",
       "    </tr>\n",
       "    <tr>\n",
       "      <th>2</th>\n",
       "      <td>4.500000</td>\n",
       "      <td>5.501940e+03</td>\n",
       "      <td>3.875000</td>\n",
       "      <td>1.125000</td>\n",
       "      <td>1.250000</td>\n",
       "      <td>1.000000</td>\n",
       "      <td>0.000000</td>\n",
       "      <td>25.000000</td>\n",
       "      <td>0.250000</td>\n",
       "    </tr>\n",
       "    <tr>\n",
       "      <th>69997321</th>\n",
       "      <th>1</th>\n",
       "      <td>2.000000</td>\n",
       "      <td>1.031459e+05</td>\n",
       "      <td>1.666667</td>\n",
       "      <td>1.333333</td>\n",
       "      <td>1.666667</td>\n",
       "      <td>1.000000</td>\n",
       "      <td>0.666667</td>\n",
       "      <td>66.666667</td>\n",
       "      <td>0.666667</td>\n",
       "    </tr>\n",
       "    <tr>\n",
       "      <th rowspan=\"2\" valign=\"top\">69997611</th>\n",
       "      <th>1</th>\n",
       "      <td>3.500000</td>\n",
       "      <td>8.690007e+04</td>\n",
       "      <td>2.333333</td>\n",
       "      <td>1.500000</td>\n",
       "      <td>2.000000</td>\n",
       "      <td>2.000000</td>\n",
       "      <td>0.500000</td>\n",
       "      <td>100.000000</td>\n",
       "      <td>2.000000</td>\n",
       "    </tr>\n",
       "    <tr>\n",
       "      <th>2</th>\n",
       "      <td>3.500000</td>\n",
       "      <td>1.103828e+05</td>\n",
       "      <td>2.333333</td>\n",
       "      <td>1.500000</td>\n",
       "      <td>2.000000</td>\n",
       "      <td>2.000000</td>\n",
       "      <td>0.500000</td>\n",
       "      <td>100.000000</td>\n",
       "      <td>2.000000</td>\n",
       "    </tr>\n",
       "    <tr>\n",
       "      <th rowspan=\"4\" valign=\"top\">69998092</th>\n",
       "      <th>1</th>\n",
       "      <td>2.500000</td>\n",
       "      <td>4.364017e+04</td>\n",
       "      <td>2.500000</td>\n",
       "      <td>1.000000</td>\n",
       "      <td>1.000000</td>\n",
       "      <td>NaN</td>\n",
       "      <td>0.000000</td>\n",
       "      <td>0.000000</td>\n",
       "      <td>0.000000</td>\n",
       "    </tr>\n",
       "    <tr>\n",
       "      <th>2</th>\n",
       "      <td>6.181818</td>\n",
       "      <td>4.653713e+04</td>\n",
       "      <td>2.363636</td>\n",
       "      <td>2.181818</td>\n",
       "      <td>3.363636</td>\n",
       "      <td>2.363636</td>\n",
       "      <td>0.454545</td>\n",
       "      <td>236.363636</td>\n",
       "      <td>7.818182</td>\n",
       "    </tr>\n",
       "    <tr>\n",
       "      <th>3</th>\n",
       "      <td>2.500000</td>\n",
       "      <td>5.841258e+04</td>\n",
       "      <td>2.500000</td>\n",
       "      <td>1.000000</td>\n",
       "      <td>1.000000</td>\n",
       "      <td>NaN</td>\n",
       "      <td>0.000000</td>\n",
       "      <td>0.000000</td>\n",
       "      <td>0.000000</td>\n",
       "    </tr>\n",
       "    <tr>\n",
       "      <th>4</th>\n",
       "      <td>1.500000</td>\n",
       "      <td>5.841258e+04</td>\n",
       "      <td>1.500000</td>\n",
       "      <td>1.000000</td>\n",
       "      <td>1.000000</td>\n",
       "      <td>NaN</td>\n",
       "      <td>0.000000</td>\n",
       "      <td>0.000000</td>\n",
       "      <td>0.000000</td>\n",
       "    </tr>\n",
       "    <tr>\n",
       "      <th rowspan=\"3\" valign=\"top\">69998300</th>\n",
       "      <th>1</th>\n",
       "      <td>3.000000</td>\n",
       "      <td>2.724617e+05</td>\n",
       "      <td>1.800000</td>\n",
       "      <td>1.400000</td>\n",
       "      <td>1.800000</td>\n",
       "      <td>1.000000</td>\n",
       "      <td>0.400000</td>\n",
       "      <td>80.000000</td>\n",
       "      <td>0.800000</td>\n",
       "    </tr>\n",
       "    <tr>\n",
       "      <th>2</th>\n",
       "      <td>1.500000</td>\n",
       "      <td>2.959183e+05</td>\n",
       "      <td>1.000000</td>\n",
       "      <td>1.500000</td>\n",
       "      <td>2.000000</td>\n",
       "      <td>1.000000</td>\n",
       "      <td>0.000000</td>\n",
       "      <td>100.000000</td>\n",
       "      <td>1.000000</td>\n",
       "    </tr>\n",
       "    <tr>\n",
       "      <th>3</th>\n",
       "      <td>1.500000</td>\n",
       "      <td>8.058411e+05</td>\n",
       "      <td>1.000000</td>\n",
       "      <td>1.500000</td>\n",
       "      <td>2.000000</td>\n",
       "      <td>1.000000</td>\n",
       "      <td>0.000000</td>\n",
       "      <td>100.000000</td>\n",
       "      <td>1.000000</td>\n",
       "    </tr>\n",
       "    <tr>\n",
       "      <th>69998896</th>\n",
       "      <th>2</th>\n",
       "      <td>1.500000</td>\n",
       "      <td>7.204803e+05</td>\n",
       "      <td>1.500000</td>\n",
       "      <td>1.000000</td>\n",
       "      <td>1.000000</td>\n",
       "      <td>NaN</td>\n",
       "      <td>0.000000</td>\n",
       "      <td>0.000000</td>\n",
       "      <td>0.000000</td>\n",
       "    </tr>\n",
       "    <tr>\n",
       "      <th rowspan=\"4\" valign=\"top\">69999718</th>\n",
       "      <th>1</th>\n",
       "      <td>3.500000</td>\n",
       "      <td>2.600893e+05</td>\n",
       "      <td>3.166667</td>\n",
       "      <td>1.166667</td>\n",
       "      <td>1.333333</td>\n",
       "      <td>1.000000</td>\n",
       "      <td>0.333333</td>\n",
       "      <td>33.333333</td>\n",
       "      <td>0.333333</td>\n",
       "    </tr>\n",
       "    <tr>\n",
       "      <th>2</th>\n",
       "      <td>3.000000</td>\n",
       "      <td>3.919694e+05</td>\n",
       "      <td>2.600000</td>\n",
       "      <td>1.200000</td>\n",
       "      <td>1.400000</td>\n",
       "      <td>1.000000</td>\n",
       "      <td>0.400000</td>\n",
       "      <td>40.000000</td>\n",
       "      <td>0.400000</td>\n",
       "    </tr>\n",
       "    <tr>\n",
       "      <th>3</th>\n",
       "      <td>3.000000</td>\n",
       "      <td>2.002628e+05</td>\n",
       "      <td>3.000000</td>\n",
       "      <td>1.000000</td>\n",
       "      <td>1.000000</td>\n",
       "      <td>NaN</td>\n",
       "      <td>0.000000</td>\n",
       "      <td>0.000000</td>\n",
       "      <td>0.000000</td>\n",
       "    </tr>\n",
       "    <tr>\n",
       "      <th>4</th>\n",
       "      <td>2.500000</td>\n",
       "      <td>2.002628e+05</td>\n",
       "      <td>2.500000</td>\n",
       "      <td>1.000000</td>\n",
       "      <td>1.000000</td>\n",
       "      <td>NaN</td>\n",
       "      <td>0.000000</td>\n",
       "      <td>0.000000</td>\n",
       "      <td>0.000000</td>\n",
       "    </tr>\n",
       "    <tr>\n",
       "      <th rowspan=\"2\" valign=\"top\">69999745</th>\n",
       "      <th>1</th>\n",
       "      <td>3.000000</td>\n",
       "      <td>2.032344e+04</td>\n",
       "      <td>1.600000</td>\n",
       "      <td>1.600000</td>\n",
       "      <td>2.200000</td>\n",
       "      <td>2.000000</td>\n",
       "      <td>0.600000</td>\n",
       "      <td>120.000000</td>\n",
       "      <td>2.400000</td>\n",
       "    </tr>\n",
       "    <tr>\n",
       "      <th>2</th>\n",
       "      <td>1.500000</td>\n",
       "      <td>2.148997e+04</td>\n",
       "      <td>1.500000</td>\n",
       "      <td>1.000000</td>\n",
       "      <td>1.000000</td>\n",
       "      <td>NaN</td>\n",
       "      <td>0.000000</td>\n",
       "      <td>0.000000</td>\n",
       "      <td>0.000000</td>\n",
       "    </tr>\n",
       "    <tr>\n",
       "      <th>69999811</th>\n",
       "      <th>1</th>\n",
       "      <td>5.375000</td>\n",
       "      <td>2.960275e+05</td>\n",
       "      <td>1.750000</td>\n",
       "      <td>2.250000</td>\n",
       "      <td>3.500000</td>\n",
       "      <td>4.000000</td>\n",
       "      <td>0.625000</td>\n",
       "      <td>250.000000</td>\n",
       "      <td>10.000000</td>\n",
       "    </tr>\n",
       "  </tbody>\n",
       "</table>\n",
       "<p>262648 rows × 9 columns</p>\n",
       "</div>"
      ],
      "text/plain": [
       "                    tdtrpnum      wttrdfin      tour  tour_seg    trpcnt  \\\n",
       "house_id person_id                                                         \n",
       "20000017 1          3.000000  6.817067e+04  3.000000  1.000000  1.000000   \n",
       "         2          4.500000  6.958950e+04  2.625000  1.375000  1.750000   \n",
       "20000231 1          3.000000  5.228855e+05  2.200000  1.200000  1.400000   \n",
       "20000521 1          2.500000  1.177184e+05  1.750000  1.750000  2.500000   \n",
       "         2          1.500000  1.325615e+05  1.500000  1.000000  1.000000   \n",
       "20001283 1          2.500000  6.461012e+05  1.750000  1.750000  2.500000   \n",
       "20001603 1          3.500000  3.753174e+04  3.166667  1.166667  1.333333   \n",
       "         2          5.500000  4.086633e+04  4.300000  1.200000  1.400000   \n",
       "20001649 1          4.500000  2.905128e+05  2.750000  1.500000  2.000000   \n",
       "         2          3.500000  3.132873e+05  2.500000  1.333333  1.666667   \n",
       "20002413 1          1.500000  3.535598e+04  1.500000  1.000000  1.000000   \n",
       "         2          1.500000  1.127163e+05  1.500000  1.000000  1.000000   \n",
       "20002440 2          3.500000  1.048044e+05  2.000000  1.500000  2.000000   \n",
       "20002570 1          5.666667  6.533636e+04  2.555556  1.888889  2.777778   \n",
       "         3          2.500000  9.883542e+04  2.500000  1.000000  1.000000   \n",
       "         4          6.375000  1.647840e+05  3.000000  1.500000  2.000000   \n",
       "20002888 1          1.500000  2.813046e+04  1.500000  1.000000  1.000000   \n",
       "20003401 1          1.500000  4.684545e+06  1.000000  1.500000  2.000000   \n",
       "20004480 1          5.000000  9.603121e+04  1.666667  2.333333  3.666667   \n",
       "         2          2.500000  1.256243e+05  2.500000  1.000000  1.000000   \n",
       "         3          5.000000  1.529624e+05  2.555556  1.666667  2.333333   \n",
       "20004837 1          2.000000  5.039269e+05  1.333333  1.333333  1.666667   \n",
       "         2          3.500000  7.335344e+05  2.833333  1.333333  1.666667   \n",
       "         3          1.500000  5.742319e+05  1.500000  1.000000  1.000000   \n",
       "20005320 1          1.500000  6.708881e+04  1.500000  1.000000  1.000000   \n",
       "         2          3.000000  7.236153e+04  2.200000  1.200000  1.400000   \n",
       "20005599 1          1.500000  1.040048e+05  1.500000  1.000000  1.000000   \n",
       "20005807 1          4.000000  5.535021e+04  1.857143  1.714286  2.428571   \n",
       "20006233 1          3.500000  9.643176e+05  1.166667  2.666667  4.333333   \n",
       "20006381 1          1.500000  2.955194e+04  1.500000  1.000000  1.000000   \n",
       "...                      ...           ...       ...       ...       ...   \n",
       "69995729 1          1.500000  2.415686e+05  1.000000  1.500000  2.000000   \n",
       "         2          2.000000  2.807599e+05  1.000000  2.000000  3.000000   \n",
       "69995804 1          3.500000  3.636619e+05  3.333333  1.166667  1.333333   \n",
       "69996481 1          2.000000  5.261590e+05  1.666667  1.333333  1.666667   \n",
       "69996584 1          5.500000  4.618733e+05  4.400000  1.400000  1.800000   \n",
       "         2          2.000000  4.638907e+05  2.000000  1.000000  1.000000   \n",
       "69996632 1          4.500000  4.020575e+05  1.750000  2.250000  3.500000   \n",
       "         2          1.500000  5.059800e+05  1.500000  1.000000  1.000000   \n",
       "69996847 1          2.500000  5.231059e+04  1.750000  1.250000  1.500000   \n",
       "         2          1.500000  5.667649e+04  1.500000  1.000000  1.000000   \n",
       "69996856 1          1.500000  8.845223e+03  1.500000  1.000000  1.000000   \n",
       "         2          4.500000  5.501940e+03  3.875000  1.125000  1.250000   \n",
       "69997321 1          2.000000  1.031459e+05  1.666667  1.333333  1.666667   \n",
       "69997611 1          3.500000  8.690007e+04  2.333333  1.500000  2.000000   \n",
       "         2          3.500000  1.103828e+05  2.333333  1.500000  2.000000   \n",
       "69998092 1          2.500000  4.364017e+04  2.500000  1.000000  1.000000   \n",
       "         2          6.181818  4.653713e+04  2.363636  2.181818  3.363636   \n",
       "         3          2.500000  5.841258e+04  2.500000  1.000000  1.000000   \n",
       "         4          1.500000  5.841258e+04  1.500000  1.000000  1.000000   \n",
       "69998300 1          3.000000  2.724617e+05  1.800000  1.400000  1.800000   \n",
       "         2          1.500000  2.959183e+05  1.000000  1.500000  2.000000   \n",
       "         3          1.500000  8.058411e+05  1.000000  1.500000  2.000000   \n",
       "69998896 2          1.500000  7.204803e+05  1.500000  1.000000  1.000000   \n",
       "69999718 1          3.500000  2.600893e+05  3.166667  1.166667  1.333333   \n",
       "         2          3.000000  3.919694e+05  2.600000  1.200000  1.400000   \n",
       "         3          3.000000  2.002628e+05  3.000000  1.000000  1.000000   \n",
       "         4          2.500000  2.002628e+05  2.500000  1.000000  1.000000   \n",
       "69999745 1          3.000000  2.032344e+04  1.600000  1.600000  2.200000   \n",
       "         2          1.500000  2.148997e+04  1.500000  1.000000  1.000000   \n",
       "69999811 1          5.375000  2.960275e+05  1.750000  2.250000  3.500000   \n",
       "\n",
       "                       stops  tour_flg    stops100     stops3  \n",
       "house_id person_id                                             \n",
       "20000017 1               NaN  0.000000    0.000000   0.000000  \n",
       "         2          1.000000  0.750000   75.000000   0.750000  \n",
       "20000231 1          1.000000  0.400000   40.000000   0.400000  \n",
       "20000521 1          2.000000  0.750000  150.000000   3.000000  \n",
       "         2               NaN  0.000000    0.000000   0.000000  \n",
       "20001283 1          2.000000  0.750000  150.000000   3.000000  \n",
       "20001603 1          1.000000  0.333333   33.333333   0.333333  \n",
       "         2          1.000000  0.000000   40.000000   0.400000  \n",
       "20001649 1          1.600000  0.375000  100.000000   1.750000  \n",
       "         2          1.000000  0.000000   66.666667   0.666667  \n",
       "20002413 1               NaN  0.000000    0.000000   0.000000  \n",
       "         2               NaN  0.000000    0.000000   0.000000  \n",
       "20002440 2          1.000000  0.000000  100.000000   1.000000  \n",
       "20002570 1          2.000000  0.444444  177.777778   4.444444  \n",
       "         3               NaN  0.000000    0.000000   0.000000  \n",
       "         4          1.600000  0.625000  100.000000   1.750000  \n",
       "20002888 1               NaN  0.000000    0.000000   0.000000  \n",
       "20003401 1          1.000000  0.000000  100.000000   1.000000  \n",
       "20004480 1          2.666667  0.555556  266.666667   9.333333  \n",
       "         2               NaN  0.000000    0.000000   0.000000  \n",
       "         3          1.333333  1.000000  133.333333   2.000000  \n",
       "20004837 1          1.000000  0.666667   66.666667   0.666667  \n",
       "         2          1.000000  0.000000   66.666667   0.666667  \n",
       "         3               NaN  0.000000    0.000000   0.000000  \n",
       "20005320 1               NaN  0.000000    0.000000   0.000000  \n",
       "         2          1.000000  0.400000   40.000000   0.400000  \n",
       "20005599 1               NaN  0.000000    0.000000   0.000000  \n",
       "20005807 1          1.428571  1.000000  142.857143   2.285714  \n",
       "20006233 1          4.000000  0.833333  333.333333  13.333333  \n",
       "20006381 1               NaN  0.000000    0.000000   0.000000  \n",
       "...                      ...       ...         ...        ...  \n",
       "69995729 1          1.000000  0.000000  100.000000   1.000000  \n",
       "         2          2.000000  1.000000  200.000000   4.000000  \n",
       "69995804 1          1.000000  0.333333   33.333333   0.333333  \n",
       "69996481 1          1.000000  0.666667   66.666667   0.666667  \n",
       "69996584 1          1.600000  0.300000   80.000000   1.400000  \n",
       "         2               NaN  0.000000    0.000000   0.000000  \n",
       "69996632 1          4.000000  0.625000  250.000000  10.000000  \n",
       "         2               NaN  0.000000    0.000000   0.000000  \n",
       "69996847 1          1.000000  0.000000   50.000000   0.500000  \n",
       "         2               NaN  0.000000    0.000000   0.000000  \n",
       "69996856 1               NaN  0.000000    0.000000   0.000000  \n",
       "         2          1.000000  0.000000   25.000000   0.250000  \n",
       "69997321 1          1.000000  0.666667   66.666667   0.666667  \n",
       "69997611 1          2.000000  0.500000  100.000000   2.000000  \n",
       "         2          2.000000  0.500000  100.000000   2.000000  \n",
       "69998092 1               NaN  0.000000    0.000000   0.000000  \n",
       "         2          2.363636  0.454545  236.363636   7.818182  \n",
       "         3               NaN  0.000000    0.000000   0.000000  \n",
       "         4               NaN  0.000000    0.000000   0.000000  \n",
       "69998300 1          1.000000  0.400000   80.000000   0.800000  \n",
       "         2          1.000000  0.000000  100.000000   1.000000  \n",
       "         3          1.000000  0.000000  100.000000   1.000000  \n",
       "69998896 2               NaN  0.000000    0.000000   0.000000  \n",
       "69999718 1          1.000000  0.333333   33.333333   0.333333  \n",
       "         2          1.000000  0.400000   40.000000   0.400000  \n",
       "         3               NaN  0.000000    0.000000   0.000000  \n",
       "         4               NaN  0.000000    0.000000   0.000000  \n",
       "69999745 1          2.000000  0.600000  120.000000   2.400000  \n",
       "         2               NaN  0.000000    0.000000   0.000000  \n",
       "69999811 1          4.000000  0.625000  250.000000  10.000000  \n",
       "\n",
       "[262648 rows x 9 columns]"
      ]
     },
     "execution_count": 53,
     "metadata": {},
     "output_type": "execute_result"
    }
   ],
   "source": [
    "trip_data.groupby(['house_id', 'person_id']).mean() #[['tdtrpnum', 'trpcnt']].head()"
   ]
  },
  {
   "cell_type": "code",
   "execution_count": 54,
   "metadata": {
    "collapsed": false
   },
   "outputs": [
    {
     "data": {
      "text/html": [
       "<div>\n",
       "<table border=\"1\" class=\"dataframe\">\n",
       "  <thead>\n",
       "    <tr>\n",
       "      <th></th>\n",
       "      <th colspan=\"10\" halign=\"left\">tdtrpnum</th>\n",
       "      <th>...</th>\n",
       "      <th colspan=\"10\" halign=\"left\">trpcnt</th>\n",
       "    </tr>\n",
       "    <tr>\n",
       "      <th>person_id</th>\n",
       "      <th>1</th>\n",
       "      <th>2</th>\n",
       "      <th>3</th>\n",
       "      <th>4</th>\n",
       "      <th>5</th>\n",
       "      <th>6</th>\n",
       "      <th>7</th>\n",
       "      <th>8</th>\n",
       "      <th>9</th>\n",
       "      <th>10</th>\n",
       "      <th>...</th>\n",
       "      <th>4</th>\n",
       "      <th>5</th>\n",
       "      <th>6</th>\n",
       "      <th>7</th>\n",
       "      <th>8</th>\n",
       "      <th>9</th>\n",
       "      <th>10</th>\n",
       "      <th>11</th>\n",
       "      <th>12</th>\n",
       "      <th>13</th>\n",
       "    </tr>\n",
       "    <tr>\n",
       "      <th>house_id</th>\n",
       "      <th></th>\n",
       "      <th></th>\n",
       "      <th></th>\n",
       "      <th></th>\n",
       "      <th></th>\n",
       "      <th></th>\n",
       "      <th></th>\n",
       "      <th></th>\n",
       "      <th></th>\n",
       "      <th></th>\n",
       "      <th></th>\n",
       "      <th></th>\n",
       "      <th></th>\n",
       "      <th></th>\n",
       "      <th></th>\n",
       "      <th></th>\n",
       "      <th></th>\n",
       "      <th></th>\n",
       "      <th></th>\n",
       "      <th></th>\n",
       "      <th></th>\n",
       "    </tr>\n",
       "  </thead>\n",
       "  <tbody>\n",
       "    <tr>\n",
       "      <th>20000017</th>\n",
       "      <td>3.0</td>\n",
       "      <td>4.5</td>\n",
       "      <td>NaN</td>\n",
       "      <td>NaN</td>\n",
       "      <td>NaN</td>\n",
       "      <td>NaN</td>\n",
       "      <td>NaN</td>\n",
       "      <td>NaN</td>\n",
       "      <td>NaN</td>\n",
       "      <td>NaN</td>\n",
       "      <td>...</td>\n",
       "      <td>NaN</td>\n",
       "      <td>NaN</td>\n",
       "      <td>NaN</td>\n",
       "      <td>NaN</td>\n",
       "      <td>NaN</td>\n",
       "      <td>NaN</td>\n",
       "      <td>NaN</td>\n",
       "      <td>NaN</td>\n",
       "      <td>NaN</td>\n",
       "      <td>NaN</td>\n",
       "    </tr>\n",
       "    <tr>\n",
       "      <th>20000231</th>\n",
       "      <td>3.0</td>\n",
       "      <td>NaN</td>\n",
       "      <td>NaN</td>\n",
       "      <td>NaN</td>\n",
       "      <td>NaN</td>\n",
       "      <td>NaN</td>\n",
       "      <td>NaN</td>\n",
       "      <td>NaN</td>\n",
       "      <td>NaN</td>\n",
       "      <td>NaN</td>\n",
       "      <td>...</td>\n",
       "      <td>NaN</td>\n",
       "      <td>NaN</td>\n",
       "      <td>NaN</td>\n",
       "      <td>NaN</td>\n",
       "      <td>NaN</td>\n",
       "      <td>NaN</td>\n",
       "      <td>NaN</td>\n",
       "      <td>NaN</td>\n",
       "      <td>NaN</td>\n",
       "      <td>NaN</td>\n",
       "    </tr>\n",
       "    <tr>\n",
       "      <th>20000521</th>\n",
       "      <td>2.5</td>\n",
       "      <td>1.5</td>\n",
       "      <td>NaN</td>\n",
       "      <td>NaN</td>\n",
       "      <td>NaN</td>\n",
       "      <td>NaN</td>\n",
       "      <td>NaN</td>\n",
       "      <td>NaN</td>\n",
       "      <td>NaN</td>\n",
       "      <td>NaN</td>\n",
       "      <td>...</td>\n",
       "      <td>NaN</td>\n",
       "      <td>NaN</td>\n",
       "      <td>NaN</td>\n",
       "      <td>NaN</td>\n",
       "      <td>NaN</td>\n",
       "      <td>NaN</td>\n",
       "      <td>NaN</td>\n",
       "      <td>NaN</td>\n",
       "      <td>NaN</td>\n",
       "      <td>NaN</td>\n",
       "    </tr>\n",
       "    <tr>\n",
       "      <th>20001283</th>\n",
       "      <td>2.5</td>\n",
       "      <td>NaN</td>\n",
       "      <td>NaN</td>\n",
       "      <td>NaN</td>\n",
       "      <td>NaN</td>\n",
       "      <td>NaN</td>\n",
       "      <td>NaN</td>\n",
       "      <td>NaN</td>\n",
       "      <td>NaN</td>\n",
       "      <td>NaN</td>\n",
       "      <td>...</td>\n",
       "      <td>NaN</td>\n",
       "      <td>NaN</td>\n",
       "      <td>NaN</td>\n",
       "      <td>NaN</td>\n",
       "      <td>NaN</td>\n",
       "      <td>NaN</td>\n",
       "      <td>NaN</td>\n",
       "      <td>NaN</td>\n",
       "      <td>NaN</td>\n",
       "      <td>NaN</td>\n",
       "    </tr>\n",
       "    <tr>\n",
       "      <th>20001603</th>\n",
       "      <td>3.5</td>\n",
       "      <td>5.5</td>\n",
       "      <td>NaN</td>\n",
       "      <td>NaN</td>\n",
       "      <td>NaN</td>\n",
       "      <td>NaN</td>\n",
       "      <td>NaN</td>\n",
       "      <td>NaN</td>\n",
       "      <td>NaN</td>\n",
       "      <td>NaN</td>\n",
       "      <td>...</td>\n",
       "      <td>NaN</td>\n",
       "      <td>NaN</td>\n",
       "      <td>NaN</td>\n",
       "      <td>NaN</td>\n",
       "      <td>NaN</td>\n",
       "      <td>NaN</td>\n",
       "      <td>NaN</td>\n",
       "      <td>NaN</td>\n",
       "      <td>NaN</td>\n",
       "      <td>NaN</td>\n",
       "    </tr>\n",
       "  </tbody>\n",
       "</table>\n",
       "<p>5 rows × 26 columns</p>\n",
       "</div>"
      ],
      "text/plain": [
       "          tdtrpnum                                      ... trpcnt          \\\n",
       "person_id       1    2   3   4   5   6   7   8   9   10 ...     4   5   6    \n",
       "house_id                                                ...                  \n",
       "20000017       3.0  4.5 NaN NaN NaN NaN NaN NaN NaN NaN ...    NaN NaN NaN   \n",
       "20000231       3.0  NaN NaN NaN NaN NaN NaN NaN NaN NaN ...    NaN NaN NaN   \n",
       "20000521       2.5  1.5 NaN NaN NaN NaN NaN NaN NaN NaN ...    NaN NaN NaN   \n",
       "20001283       2.5  NaN NaN NaN NaN NaN NaN NaN NaN NaN ...    NaN NaN NaN   \n",
       "20001603       3.5  5.5 NaN NaN NaN NaN NaN NaN NaN NaN ...    NaN NaN NaN   \n",
       "\n",
       "                                       \n",
       "person_id  7   8   9   10  11  12  13  \n",
       "house_id                               \n",
       "20000017  NaN NaN NaN NaN NaN NaN NaN  \n",
       "20000231  NaN NaN NaN NaN NaN NaN NaN  \n",
       "20000521  NaN NaN NaN NaN NaN NaN NaN  \n",
       "20001283  NaN NaN NaN NaN NaN NaN NaN  \n",
       "20001603  NaN NaN NaN NaN NaN NaN NaN  \n",
       "\n",
       "[5 rows x 26 columns]"
      ]
     },
     "execution_count": 54,
     "metadata": {},
     "output_type": "execute_result"
    }
   ],
   "source": [
    "trip_data.groupby(['house_id', 'person_id']).mean()[['tdtrpnum', 'trpcnt']].unstack().head()"
   ]
  },
  {
   "cell_type": "markdown",
   "metadata": {},
   "source": [
    "## c. Join"
   ]
  },
  {
   "cell_type": "code",
   "execution_count": 55,
   "metadata": {
    "collapsed": false
   },
   "outputs": [
    {
     "data": {
      "text/html": [
       "<div>\n",
       "<table border=\"1\" class=\"dataframe\">\n",
       "  <thead>\n",
       "    <tr style=\"text-align: right;\">\n",
       "      <th></th>\n",
       "      <th>house_id</th>\n",
       "      <th>person_id</th>\n",
       "      <th>tdtrpnum_l</th>\n",
       "      <th>trpcnt</th>\n",
       "      <th>tdtrpnum_r</th>\n",
       "    </tr>\n",
       "  </thead>\n",
       "  <tbody>\n",
       "    <tr>\n",
       "      <th>0</th>\n",
       "      <td>20000017</td>\n",
       "      <td>1</td>\n",
       "      <td>1</td>\n",
       "      <td>1</td>\n",
       "      <td>1</td>\n",
       "    </tr>\n",
       "    <tr>\n",
       "      <th>1</th>\n",
       "      <td>20000017</td>\n",
       "      <td>1</td>\n",
       "      <td>1</td>\n",
       "      <td>1</td>\n",
       "      <td>2</td>\n",
       "    </tr>\n",
       "    <tr>\n",
       "      <th>2</th>\n",
       "      <td>20000017</td>\n",
       "      <td>1</td>\n",
       "      <td>1</td>\n",
       "      <td>1</td>\n",
       "      <td>3</td>\n",
       "    </tr>\n",
       "    <tr>\n",
       "      <th>3</th>\n",
       "      <td>20000017</td>\n",
       "      <td>1</td>\n",
       "      <td>1</td>\n",
       "      <td>1</td>\n",
       "      <td>4</td>\n",
       "    </tr>\n",
       "    <tr>\n",
       "      <th>4</th>\n",
       "      <td>20000017</td>\n",
       "      <td>1</td>\n",
       "      <td>1</td>\n",
       "      <td>1</td>\n",
       "      <td>5</td>\n",
       "    </tr>\n",
       "  </tbody>\n",
       "</table>\n",
       "</div>"
      ],
      "text/plain": [
       "   house_id  person_id  tdtrpnum_l  trpcnt  tdtrpnum_r\n",
       "0  20000017          1           1       1           1\n",
       "1  20000017          1           1       1           2\n",
       "2  20000017          1           1       1           3\n",
       "3  20000017          1           1       1           4\n",
       "4  20000017          1           1       1           5"
      ]
     },
     "execution_count": 55,
     "metadata": {},
     "output_type": "execute_result"
    }
   ],
   "source": [
    "trip_data[['house_id','person_id', 'tdtrpnum']].merge(trip_data[['house_id','person_id', 'trpcnt',  'tdtrpnum']],\n",
    "                                                    on=['house_id','person_id'], suffixes=[\"_l\", \"_r\"]).head()"
   ]
  },
  {
   "cell_type": "markdown",
   "metadata": {},
   "source": [
    "# 6. Inspecting the data "
   ]
  },
  {
   "cell_type": "code",
   "execution_count": 56,
   "metadata": {
    "collapsed": false
   },
   "outputs": [
    {
     "data": {
      "text/html": [
       "<div>\n",
       "<table border=\"1\" class=\"dataframe\">\n",
       "  <thead>\n",
       "    <tr style=\"text-align: right;\">\n",
       "      <th></th>\n",
       "      <th>house_id</th>\n",
       "      <th>person_id</th>\n",
       "      <th>tdtrpnum</th>\n",
       "      <th>wttrdfin</th>\n",
       "      <th>tour</th>\n",
       "      <th>tour_seg</th>\n",
       "      <th>tourtype</th>\n",
       "      <th>trpcnt</th>\n",
       "      <th>stops</th>\n",
       "      <th>tour_flg</th>\n",
       "      <th>trpcnt_recoded</th>\n",
       "      <th>stops100</th>\n",
       "      <th>stops3</th>\n",
       "    </tr>\n",
       "  </thead>\n",
       "  <tbody>\n",
       "    <tr>\n",
       "      <th>0</th>\n",
       "      <td>20000017</td>\n",
       "      <td>1</td>\n",
       "      <td>1</td>\n",
       "      <td>68170.670425</td>\n",
       "      <td>1</td>\n",
       "      <td>1</td>\n",
       "      <td>HO</td>\n",
       "      <td>1</td>\n",
       "      <td>NaN</td>\n",
       "      <td>0</td>\n",
       "      <td>A little</td>\n",
       "      <td>0</td>\n",
       "      <td>0</td>\n",
       "    </tr>\n",
       "    <tr>\n",
       "      <th>1</th>\n",
       "      <td>20000017</td>\n",
       "      <td>1</td>\n",
       "      <td>2</td>\n",
       "      <td>68170.670425</td>\n",
       "      <td>2</td>\n",
       "      <td>1</td>\n",
       "      <td>OO</td>\n",
       "      <td>1</td>\n",
       "      <td>NaN</td>\n",
       "      <td>0</td>\n",
       "      <td>A little</td>\n",
       "      <td>0</td>\n",
       "      <td>0</td>\n",
       "    </tr>\n",
       "    <tr>\n",
       "      <th>2</th>\n",
       "      <td>20000017</td>\n",
       "      <td>1</td>\n",
       "      <td>3</td>\n",
       "      <td>68170.670425</td>\n",
       "      <td>3</td>\n",
       "      <td>1</td>\n",
       "      <td>OH</td>\n",
       "      <td>1</td>\n",
       "      <td>NaN</td>\n",
       "      <td>0</td>\n",
       "      <td>A little</td>\n",
       "      <td>0</td>\n",
       "      <td>0</td>\n",
       "    </tr>\n",
       "    <tr>\n",
       "      <th>3</th>\n",
       "      <td>20000017</td>\n",
       "      <td>1</td>\n",
       "      <td>4</td>\n",
       "      <td>68170.670425</td>\n",
       "      <td>4</td>\n",
       "      <td>1</td>\n",
       "      <td>HO</td>\n",
       "      <td>1</td>\n",
       "      <td>NaN</td>\n",
       "      <td>0</td>\n",
       "      <td>A little</td>\n",
       "      <td>0</td>\n",
       "      <td>0</td>\n",
       "    </tr>\n",
       "    <tr>\n",
       "      <th>4</th>\n",
       "      <td>20000017</td>\n",
       "      <td>1</td>\n",
       "      <td>5</td>\n",
       "      <td>68170.670425</td>\n",
       "      <td>5</td>\n",
       "      <td>1</td>\n",
       "      <td>OH</td>\n",
       "      <td>1</td>\n",
       "      <td>NaN</td>\n",
       "      <td>0</td>\n",
       "      <td>A little</td>\n",
       "      <td>0</td>\n",
       "      <td>0</td>\n",
       "    </tr>\n",
       "  </tbody>\n",
       "</table>\n",
       "</div>"
      ],
      "text/plain": [
       "   house_id  person_id  tdtrpnum      wttrdfin  tour  tour_seg tourtype  \\\n",
       "0  20000017          1         1  68170.670425     1         1       HO   \n",
       "1  20000017          1         2  68170.670425     2         1       OO   \n",
       "2  20000017          1         3  68170.670425     3         1       OH   \n",
       "3  20000017          1         4  68170.670425     4         1       HO   \n",
       "4  20000017          1         5  68170.670425     5         1       OH   \n",
       "\n",
       "   trpcnt  stops  tour_flg trpcnt_recoded  stops100  stops3  \n",
       "0       1    NaN         0       A little         0       0  \n",
       "1       1    NaN         0       A little         0       0  \n",
       "2       1    NaN         0       A little         0       0  \n",
       "3       1    NaN         0       A little         0       0  \n",
       "4       1    NaN         0       A little         0       0  "
      ]
     },
     "execution_count": 56,
     "metadata": {},
     "output_type": "execute_result"
    }
   ],
   "source": [
    "trip_data.head()"
   ]
  },
  {
   "cell_type": "markdown",
   "metadata": {},
   "source": [
    "## a. Get unique values"
   ]
  },
  {
   "cell_type": "code",
   "execution_count": 57,
   "metadata": {
    "collapsed": false
   },
   "outputs": [
    {
     "data": {
      "text/plain": [
       "array([ 1,  2,  3,  4,  5,  6,  7,  8,  9, 10, 11, 12, 13, 14, 15, 16, 17,\n",
       "       18, 19, 20, 21, 22, 23], dtype=int64)"
      ]
     },
     "execution_count": 57,
     "metadata": {},
     "output_type": "execute_result"
    }
   ],
   "source": [
    "trip_data.tour.unique()"
   ]
  },
  {
   "cell_type": "markdown",
   "metadata": {},
   "source": [
    "## b. Count values"
   ]
  },
  {
   "cell_type": "code",
   "execution_count": 58,
   "metadata": {
    "collapsed": false
   },
   "outputs": [
    {
     "data": {
      "text/plain": [
       "1.0     369546\n",
       "2.0     116529\n",
       "3.0      50568\n",
       "4.0      21915\n",
       "5.0       9216\n",
       "6.0       4452\n",
       "7.0       2096\n",
       "8.0       1035\n",
       "9.0        650\n",
       "10.0       374\n",
       "12.0       195\n",
       "11.0       192\n",
       "13.0        56\n",
       "15.0        48\n",
       "14.0        45\n",
       "20.0        21\n",
       "19.0        20\n",
       "18.0        19\n",
       "16.0        17\n",
       "Name: stops, dtype: int64"
      ]
     },
     "execution_count": 58,
     "metadata": {},
     "output_type": "execute_result"
    }
   ],
   "source": [
    "trip_data.stops.value_counts()"
   ]
  },
  {
   "cell_type": "code",
   "execution_count": 59,
   "metadata": {
    "collapsed": true
   },
   "outputs": [],
   "source": [
    "### How would you count unique values of stops if trpcnt_recoded is \"A lot\"?"
   ]
  },
  {
   "cell_type": "markdown",
   "metadata": {},
   "source": [
    "<font color=\"white\"> "
   ]
  },
  {
   "cell_type": "code",
   "execution_count": 60,
   "metadata": {
    "collapsed": false
   },
   "outputs": [
    {
     "data": {
      "text/plain": [
       "10.0    374\n",
       "12.0    195\n",
       "11.0    192\n",
       "13.0     56\n",
       "15.0     48\n",
       "14.0     45\n",
       "20.0     21\n",
       "19.0     20\n",
       "18.0     19\n",
       "16.0     17\n",
       "Name: stops, dtype: int64"
      ]
     },
     "execution_count": 60,
     "metadata": {},
     "output_type": "execute_result"
    }
   ],
   "source": [
    "trip_data.loc[trip_data.trpcnt_recoded==\"A lot\", \"stops\"].value_counts()"
   ]
  },
  {
   "cell_type": "markdown",
   "metadata": {},
   "source": [
    "## b. Plot\n",
    "### Histogram"
   ]
  },
  {
   "cell_type": "code",
   "execution_count": 61,
   "metadata": {
    "collapsed": false,
    "scrolled": true
   },
   "outputs": [
    {
     "data": {
      "text/plain": [
       "<matplotlib.axes._subplots.AxesSubplot at 0xdeb0e10>"
      ]
     },
     "execution_count": 61,
     "metadata": {},
     "output_type": "execute_result"
    },
    {
     "data": {
      "image/png": "[encoded data removed]",
      "text/plain": [
       "<matplotlib.figure.Figure at 0xd9b6ef0>"
      ]
     },
     "metadata": {},
     "output_type": "display_data"
    }
   ],
   "source": [
    "trip_data.stops.hist(range=[0,10], bins=10)"
   ]
  },
  {
   "cell_type": "code",
   "execution_count": 62,
   "metadata": {
    "collapsed": false
   },
   "outputs": [
    {
     "data": {
      "text/plain": [
       "<matplotlib.axes._subplots.AxesSubplot at 0xe37c390>"
      ]
     },
     "execution_count": 62,
     "metadata": {},
     "output_type": "execute_result"
    },
    {
     "name": "stderr",
     "output_type": "stream",
     "text": [
      "C:\\Anaconda\\lib\\site-packages\\matplotlib\\collections.py:590: FutureWarning: elementwise comparison failed; returning scalar instead, but in the future will perform elementwise comparison\n",
      "  if self._edgecolors == str('face'):\n"
     ]
    },
    {
     "data": {
      "image/png": "[encoded data removed]",
      "text/plain": [
       "<matplotlib.figure.Figure at 0x15d505c0>"
      ]
     },
     "metadata": {},
     "output_type": "display_data"
    }
   ],
   "source": [
    "trip_data.sample(5000).plot(kind='scatter', x='tdtrpnum', y='tour', alpha=0.1)"
   ]
  },
  {
   "cell_type": "code",
   "execution_count": 63,
   "metadata": {
    "collapsed": false
   },
   "outputs": [
    {
     "data": {
      "text/plain": [
       "<matplotlib.axes._subplots.AxesSubplot at 0x14cf8208>"
      ]
     },
     "execution_count": 63,
     "metadata": {},
     "output_type": "execute_result"
    },
    {
     "data": {
      "image/png": "[encoded data removed]",
      "text/plain": [
       "<matplotlib.figure.Figure at 0x15d8c7b8>"
      ]
     },
     "metadata": {},
     "output_type": "display_data"
    }
   ],
   "source": [
    "trip_data.sample(5000).plot(kind='scatter', x='house_id', y='wttrdfin', alpha=0.5, ylim=0)"
   ]
  },
  {
   "cell_type": "code",
   "execution_count": 64,
   "metadata": {
    "collapsed": false
   },
   "outputs": [],
   "source": [
    "trip_data['little'] = np.where(trip_data.trpcnt_recoded==\"A little\", 1, 0)\n",
    "trip_data['lot'] = np.where(trip_data.trpcnt_recoded==\"A lot\", 1, 0)"
   ]
  },
  {
   "cell_type": "code",
   "execution_count": 65,
   "metadata": {
    "collapsed": false
   },
   "outputs": [
    {
     "data": {
      "text/plain": [
       "<matplotlib.axes._subplots.AxesSubplot at 0xe4f4e48>"
      ]
     },
     "execution_count": 65,
     "metadata": {},
     "output_type": "execute_result"
    },
    {
     "data": {
      "image/png": "[encoded data removed]",
      "text/plain": [
       "<matplotlib.figure.Figure at 0x14debe48>"
      ]
     },
     "metadata": {},
     "output_type": "display_data"
    }
   ],
   "source": [
    "trip_data.groupby('tourtype').count()['house_id'].plot(kind='bar', width=1, alpha=0.5, edgecolor='white') #[['little', 'lot']].plot(kind='bar')"
   ]
  },
  {
   "cell_type": "code",
   "execution_count": 66,
   "metadata": {
    "collapsed": false
   },
   "outputs": [
    {
     "data": {
      "text/plain": [
       "<matplotlib.axes._subplots.AxesSubplot at 0xd739710>"
      ]
     },
     "execution_count": 66,
     "metadata": {},
     "output_type": "execute_result"
    },
    {
     "data": {
      "image/png": "[encoded data removed]",
      "text/plain": [
       "<matplotlib.figure.Figure at 0x12eadd30>"
      ]
     },
     "metadata": {},
     "output_type": "display_data"
    }
   ],
   "source": [
    "trip_data.groupby('tour').mean()['stops'].plot(kind='line', legend='stops')\n",
    "trip_data.groupby('tour').mean()['trpcnt'].plot(kind='bar', legend ='trpcnt', alpha=0.2, edgecolor='white', width=1)"
   ]
  },
  {
   "cell_type": "code",
   "execution_count": 67,
   "metadata": {
    "collapsed": false
   },
   "outputs": [
    {
     "data": {
      "text/plain": [
       "<matplotlib.axes._subplots.AxesSubplot at 0xd830128>"
      ]
     },
     "execution_count": 67,
     "metadata": {},
     "output_type": "execute_result"
    },
    {
     "data": {
      "image/png": "[encoded data removed]",
      "text/plain": [
       "<matplotlib.figure.Figure at 0xd8190f0>"
      ]
     },
     "metadata": {},
     "output_type": "display_data"
    }
   ],
   "source": [
    "trip_data.groupby('stops').mean()['stops100'].plot(kind='line')\n",
    "trip_data.groupby('stops').mean()['stops3'].plot(kind='line')"
   ]
  }
 ],
 "metadata": {
  "kernelspec": {
   "display_name": "Python 2",
   "language": "python",
   "name": "python2"
  },
  "language_info": {
   "codemirror_mode": {
    "name": "ipython",
    "version": 2
   },
   "file_extension": ".py",
   "mimetype": "text/x-python",
   "name": "python",
   "nbconvert_exporter": "python",
   "pygments_lexer": "ipython2",
   "version": "2.7.11"
  }
 },
 "nbformat": 4,
 "nbformat_minor": 0
}
